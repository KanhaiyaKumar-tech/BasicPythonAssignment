{
 "cells": [
  {
   "cell_type": "code",
   "execution_count": null,
   "id": "6f318752",
   "metadata": {},
   "outputs": [],
   "source": []
  },
  {
   "cell_type": "code",
   "execution_count": null,
   "id": "881d1986",
   "metadata": {},
   "outputs": [],
   "source": [
    "1. Write a Python program to convert kilometers to miles?"
   ]
  },
  {
   "cell_type": "code",
   "execution_count": 1,
   "id": "e267bdba",
   "metadata": {},
   "outputs": [
    {
     "name": "stdout",
     "output_type": "stream",
     "text": [
      "Enter distance in kilometers: 25\n",
      "Distance in miles: 15.534275000000001\n"
     ]
    }
   ],
   "source": [
    "kilometers = float(input(\"Enter distance in kilometers: \"))\n",
    "\n",
    "# Conversion factor\n",
    "conversion_factor = 0.621371\n",
    "\n",
    "# Calculate miles\n",
    "miles = kilometers * conversion_factor\n",
    "\n",
    "print(\"Distance in miles:\", miles)\n"
   ]
  },
  {
   "cell_type": "code",
   "execution_count": null,
   "id": "d5d3b145",
   "metadata": {},
   "outputs": [],
   "source": [
    "\n",
    "2. Write a Python program to convert Celsius to Fahrenheit?"
   ]
  },
  {
   "cell_type": "code",
   "execution_count": 2,
   "id": "86d1a191",
   "metadata": {},
   "outputs": [
    {
     "name": "stdout",
     "output_type": "stream",
     "text": [
      "Enter temperature in Celsius: 25\n",
      "Temperature in Fahrenheit: 77.0\n"
     ]
    }
   ],
   "source": [
    "celsius = float(input(\"Enter temperature in Celsius: \"))\n",
    "\n",
    "# Conversion formula\n",
    "fahrenheit = (celsius * 9/5) + 32\n",
    "\n",
    "print(\"Temperature in Fahrenheit:\", fahrenheit)\n"
   ]
  },
  {
   "cell_type": "code",
   "execution_count": null,
   "id": "b0209029",
   "metadata": {},
   "outputs": [],
   "source": [
    "\n",
    "3. Write a Python program to display calendar?"
   ]
  },
  {
   "cell_type": "code",
   "execution_count": 3,
   "id": "21107f28",
   "metadata": {},
   "outputs": [
    {
     "name": "stdout",
     "output_type": "stream",
     "text": [
      "Enter the year: 1995\n",
      "Enter the month: 5\n",
      "      May 1995\n",
      "Mo Tu We Th Fr Sa Su\n",
      " 1  2  3  4  5  6  7\n",
      " 8  9 10 11 12 13 14\n",
      "15 16 17 18 19 20 21\n",
      "22 23 24 25 26 27 28\n",
      "29 30 31\n",
      "\n"
     ]
    }
   ],
   "source": [
    "import calendar\n",
    "\n",
    "year = int(input(\"Enter the year: \"))\n",
    "month = int(input(\"Enter the month: \"))\n",
    "\n",
    "# Display the calendar\n",
    "print(calendar.month(year, month))\n"
   ]
  },
  {
   "cell_type": "code",
   "execution_count": null,
   "id": "9b11a299",
   "metadata": {},
   "outputs": [],
   "source": [
    "\n",
    "4. Write a Python program to solve quadratic equation?\n"
   ]
  },
  {
   "cell_type": "code",
   "execution_count": 4,
   "id": "461309c5",
   "metadata": {},
   "outputs": [
    {
     "name": "stdout",
     "output_type": "stream",
     "text": [
      "Enter coefficient a: 0.5\n",
      "Enter coefficient b: 0.4\n",
      "Enter coefficient c: 0.3\n",
      "The solutions are: (-0.4+0.6633249580710799j) (-0.4-0.6633249580710799j)\n"
     ]
    }
   ],
   "source": [
    "import cmath\n",
    "\n",
    "a = float(input(\"Enter coefficient a: \"))\n",
    "b = float(input(\"Enter coefficient b: \"))\n",
    "c = float(input(\"Enter coefficient c: \"))\n",
    "\n",
    "# Calculate the discriminant\n",
    "discriminant = (b ** 2) - (4 * a * c)\n",
    "\n",
    "# Find two solutions\n",
    "root1 = (-b + cmath.sqrt(discriminant)) / (2 * a)\n",
    "root2 = (-b - cmath.sqrt(discriminant)) / (2 * a)\n",
    "\n",
    "print(\"The solutions are:\", root1, root2)\n"
   ]
  },
  {
   "cell_type": "code",
   "execution_count": null,
   "id": "fc1c3c10",
   "metadata": {},
   "outputs": [],
   "source": [
    "5. Write a Python program to swap two variables without temp variable?"
   ]
  },
  {
   "cell_type": "code",
   "execution_count": 5,
   "id": "bc3734fb",
   "metadata": {},
   "outputs": [
    {
     "name": "stdout",
     "output_type": "stream",
     "text": [
      "Before swapping:\n",
      "a = 10\n",
      "b = 5\n",
      "After swapping:\n",
      "a = 5\n",
      "b = 10\n"
     ]
    }
   ],
   "source": [
    "a = 10\n",
    "b = 5\n",
    "\n",
    "print(\"Before swapping:\")\n",
    "print(\"a =\", a)\n",
    "print(\"b =\", b)\n",
    "\n",
    "# Swapping without temporary variable\n",
    "a, b = b, a\n",
    "\n",
    "print(\"After swapping:\")\n",
    "print(\"a =\", a)\n",
    "print(\"b =\", b)\n"
   ]
  },
  {
   "cell_type": "code",
   "execution_count": null,
   "id": "01e270a5",
   "metadata": {},
   "outputs": [],
   "source": []
  },
  {
   "cell_type": "code",
   "execution_count": null,
   "id": "50f902a1",
   "metadata": {},
   "outputs": [],
   "source": []
  },
  {
   "cell_type": "code",
   "execution_count": null,
   "id": "26690f83",
   "metadata": {},
   "outputs": [],
   "source": []
  }
 ],
 "metadata": {
  "kernelspec": {
   "display_name": "Python 3 (ipykernel)",
   "language": "python",
   "name": "python3"
  },
  "language_info": {
   "codemirror_mode": {
    "name": "ipython",
    "version": 3
   },
   "file_extension": ".py",
   "mimetype": "text/x-python",
   "name": "python",
   "nbconvert_exporter": "python",
   "pygments_lexer": "ipython3",
   "version": "3.10.9"
  }
 },
 "nbformat": 4,
 "nbformat_minor": 5
}

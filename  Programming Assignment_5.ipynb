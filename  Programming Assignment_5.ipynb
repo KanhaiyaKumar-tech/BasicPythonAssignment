{
 "cells": [
  {
   "cell_type": "code",
   "execution_count": null,
   "id": "93377e47",
   "metadata": {},
   "outputs": [],
   "source": []
  },
  {
   "cell_type": "code",
   "execution_count": null,
   "id": "b0a2da9d",
   "metadata": {},
   "outputs": [],
   "source": []
  },
  {
   "cell_type": "code",
   "execution_count": null,
   "id": "f78fb800",
   "metadata": {},
   "outputs": [],
   "source": [
    "1. Write a Python Program to Find LCM?\n"
   ]
  },
  {
   "cell_type": "code",
   "execution_count": 1,
   "id": "6d775e67",
   "metadata": {},
   "outputs": [
    {
     "name": "stdout",
     "output_type": "stream",
     "text": [
      "Enter first number: 23\n",
      "Enter second number: 46\n",
      "LCM of 23 and 46 is 46\n"
     ]
    }
   ],
   "source": [
    "def calculate_lcm(x, y):\n",
    "    # Find the greater number\n",
    "    if x > y:\n",
    "        greater = x\n",
    "    else:\n",
    "        greater = y\n",
    "\n",
    "    while True:\n",
    "        if greater % x == 0 and greater % y == 0:\n",
    "            lcm = greater\n",
    "            break\n",
    "        greater += 1\n",
    "\n",
    "    return lcm\n",
    "\n",
    "\n",
    "num1 = int(input(\"Enter first number: \"))\n",
    "num2 = int(input(\"Enter second number: \"))\n",
    "\n",
    "lcm = calculate_lcm(num1, num2)\n",
    "print(\"LCM of\", num1, \"and\", num2, \"is\", lcm)\n"
   ]
  },
  {
   "cell_type": "code",
   "execution_count": null,
   "id": "e5b14b84",
   "metadata": {},
   "outputs": [],
   "source": [
    "2. Write a Python Program to Find HCF?\n"
   ]
  },
  {
   "cell_type": "code",
   "execution_count": 2,
   "id": "08002a19",
   "metadata": {},
   "outputs": [
    {
     "name": "stdout",
     "output_type": "stream",
     "text": [
      "Enter first number: 5\n",
      "Enter second number: 23\n",
      "HCF of 5 and 23 is 1\n"
     ]
    }
   ],
   "source": [
    "def calculate_hcf(x, y):\n",
    "    while y:\n",
    "        x, y = y, x % y\n",
    "    return x\n",
    "\n",
    "\n",
    "num1 = int(input(\"Enter first number: \"))\n",
    "num2 = int(input(\"Enter second number: \"))\n",
    "\n",
    "hcf = calculate_hcf(num1, num2)\n",
    "print(\"HCF of\", num1, \"and\", num2, \"is\", hcf)\n"
   ]
  },
  {
   "cell_type": "code",
   "execution_count": null,
   "id": "266a2a39",
   "metadata": {},
   "outputs": [],
   "source": [
    "3. Write a Python Program to Convert Decimal to Binary, Octal and Hexadecimal?\n"
   ]
  },
  {
   "cell_type": "code",
   "execution_count": 4,
   "id": "99470a9f",
   "metadata": {},
   "outputs": [
    {
     "name": "stdout",
     "output_type": "stream",
     "text": [
      "Enter a decimal number: 23\n",
      "Binary: 0b10111\n",
      "Octal: 0o27\n",
      "Hexadecimal: 0x17\n"
     ]
    }
   ],
   "source": [
    "decimal = int(input(\"Enter a decimal number: \"))\n",
    "\n",
    "binary = bin(decimal)\n",
    "octal = oct(decimal)\n",
    "hexadecimal = hex(decimal)\n",
    "\n",
    "print(\"Binary:\", binary)\n",
    "print(\"Octal:\", octal)\n",
    "print(\"Hexadecimal:\", hexadecimal)\n"
   ]
  },
  {
   "cell_type": "code",
   "execution_count": null,
   "id": "aa1aeef0",
   "metadata": {},
   "outputs": [],
   "source": [
    "4. Write a Python Program To Find ASCII value of a character?\n"
   ]
  },
  {
   "cell_type": "code",
   "execution_count": 5,
   "id": "3c867f9f",
   "metadata": {},
   "outputs": [
    {
     "name": "stdout",
     "output_type": "stream",
     "text": [
      "Enter a character: h\n",
      "ASCII value of h is 104\n"
     ]
    }
   ],
   "source": [
    "character = input(\"Enter a character: \")\n",
    "\n",
    "ascii_value = ord(character)\n",
    "\n",
    "print(\"ASCII value of\", character, \"is\", ascii_value)\n"
   ]
  },
  {
   "cell_type": "code",
   "execution_count": null,
   "id": "25580364",
   "metadata": {},
   "outputs": [],
   "source": [
    "5. Write a Python Program to Make a Simple Calculator with 4 basic mathematical operations?\n"
   ]
  },
  {
   "cell_type": "code",
   "execution_count": 6,
   "id": "a08508ce",
   "metadata": {},
   "outputs": [
    {
     "name": "stdout",
     "output_type": "stream",
     "text": [
      "Select operation:\n",
      "1. Addition\n",
      "2. Subtraction\n",
      "3. Multiplication\n",
      "4. Division\n",
      "Enter choice (1/2/3/4): 1\n",
      "Enter first number: 56\n",
      "Enter second number: 45\n",
      "Result: 101.0\n"
     ]
    }
   ],
   "source": [
    "def add(x, y):\n",
    "    return x + y\n",
    "\n",
    "def subtract(x, y):\n",
    "    return x - y\n",
    "\n",
    "def multiply(x, y):\n",
    "    return x * y\n",
    "\n",
    "def divide(x, y):\n",
    "    return x / y\n",
    "\n",
    "\n",
    "print(\"Select operation:\")\n",
    "print(\"1. Addition\")\n",
    "print(\"2. Subtraction\")\n",
    "print(\"3. Multiplication\")\n",
    "print(\"4. Division\")\n",
    "\n",
    "choice = input(\"Enter choice (1/2/3/4): \")\n",
    "\n",
    "num1 = float(input(\"Enter first number: \"))\n",
    "num2 = float(input(\"Enter second number: \"))\n",
    "\n",
    "if choice == '1':\n",
    "    print(\"Result:\", add(num1, num2))\n",
    "elif choice == '2':\n",
    "    print(\"Result:\", subtract(num1, num2))\n",
    "elif choice == '3':\n",
    "    print(\"Result:\", multiply(num1, num2))\n",
    "elif choice == '4':\n",
    "    print(\"Result:\", divide(num1, num2))\n",
    "else:\n",
    "    print(\"Invalid choice\")\n"
   ]
  },
  {
   "cell_type": "code",
   "execution_count": null,
   "id": "f6dab117",
   "metadata": {},
   "outputs": [],
   "source": []
  },
  {
   "cell_type": "code",
   "execution_count": null,
   "id": "3fcfc798",
   "metadata": {},
   "outputs": [],
   "source": []
  },
  {
   "cell_type": "code",
   "execution_count": null,
   "id": "a8293669",
   "metadata": {},
   "outputs": [],
   "source": []
  },
  {
   "cell_type": "code",
   "execution_count": null,
   "id": "d547ce22",
   "metadata": {},
   "outputs": [],
   "source": []
  },
  {
   "cell_type": "code",
   "execution_count": null,
   "id": "9a29a200",
   "metadata": {},
   "outputs": [],
   "source": []
  },
  {
   "cell_type": "code",
   "execution_count": null,
   "id": "d131dc40",
   "metadata": {},
   "outputs": [],
   "source": []
  },
  {
   "cell_type": "code",
   "execution_count": null,
   "id": "ddfa3132",
   "metadata": {},
   "outputs": [],
   "source": []
  },
  {
   "cell_type": "code",
   "execution_count": null,
   "id": "72979eb9",
   "metadata": {},
   "outputs": [],
   "source": []
  },
  {
   "cell_type": "code",
   "execution_count": null,
   "id": "fb592899",
   "metadata": {},
   "outputs": [],
   "source": []
  }
 ],
 "metadata": {
  "kernelspec": {
   "display_name": "Python 3 (ipykernel)",
   "language": "python",
   "name": "python3"
  },
  "language_info": {
   "codemirror_mode": {
    "name": "ipython",
    "version": 3
   },
   "file_extension": ".py",
   "mimetype": "text/x-python",
   "name": "python",
   "nbconvert_exporter": "python",
   "pygments_lexer": "ipython3",
   "version": "3.10.9"
  }
 },
 "nbformat": 4,
 "nbformat_minor": 5
}

{
 "cells": [
  {
   "cell_type": "code",
   "execution_count": null,
   "id": "67569c09",
   "metadata": {},
   "outputs": [],
   "source": []
  },
  {
   "cell_type": "code",
   "execution_count": null,
   "id": "c9a2b4ac",
   "metadata": {},
   "outputs": [],
   "source": []
  },
  {
   "cell_type": "code",
   "execution_count": null,
   "id": "f627eb7d",
   "metadata": {},
   "outputs": [],
   "source": [
    "1. Write a Python program to check if the given number is a Disarium Number?\n"
   ]
  },
  {
   "cell_type": "code",
   "execution_count": 1,
   "id": "affd5685",
   "metadata": {},
   "outputs": [
    {
     "name": "stdout",
     "output_type": "stream",
     "text": [
      "Enter a number: 25\n",
      "25 is not a Disarium number\n"
     ]
    }
   ],
   "source": [
    "def is_disarium(number):\n",
    "    num_str = str(number)\n",
    "    length = len(num_str)\n",
    "    sum = 0\n",
    "\n",
    "    for i in range(length):\n",
    "        sum += int(num_str[i]) ** (i+1)\n",
    "\n",
    "    return sum == number\n",
    "\n",
    "number = int(input(\"Enter a number: \"))\n",
    "\n",
    "if is_disarium(number):\n",
    "    print(number, \"is a Disarium number\")\n",
    "else:\n",
    "    print(number, \"is not a Disarium number\")\n"
   ]
  },
  {
   "cell_type": "code",
   "execution_count": null,
   "id": "02f3193e",
   "metadata": {},
   "outputs": [],
   "source": [
    "2. Write a Python program to print all disarium numbers between 1 to 100?\n"
   ]
  },
  {
   "cell_type": "code",
   "execution_count": 2,
   "id": "88fd62e7",
   "metadata": {},
   "outputs": [
    {
     "name": "stdout",
     "output_type": "stream",
     "text": [
      "Disarium numbers between 1 and 100:\n",
      "1\n",
      "2\n",
      "3\n",
      "4\n",
      "5\n",
      "6\n",
      "7\n",
      "8\n",
      "9\n",
      "89\n"
     ]
    }
   ],
   "source": [
    "def is_disarium(number):\n",
    "    num_str = str(number)\n",
    "    length = len(num_str)\n",
    "    sum = 0\n",
    "\n",
    "    for i in range(length):\n",
    "        sum += int(num_str[i]) ** (i+1)\n",
    "\n",
    "    return sum == number\n",
    "\n",
    "print(\"Disarium numbers between 1 and 100:\")\n",
    "for i in range(1, 101):\n",
    "    if is_disarium(i):\n",
    "        print(i)\n"
   ]
  },
  {
   "cell_type": "code",
   "execution_count": null,
   "id": "b91fbb29",
   "metadata": {},
   "outputs": [],
   "source": [
    "3. Write a Python program to check if the given number is Happy Number?\n"
   ]
  },
  {
   "cell_type": "code",
   "execution_count": 3,
   "id": "f8b656ab",
   "metadata": {},
   "outputs": [
    {
     "name": "stdout",
     "output_type": "stream",
     "text": [
      "Enter a number: 2004\n",
      "2004 is not a Happy number\n"
     ]
    }
   ],
   "source": [
    "def is_happy(number):\n",
    "    visited = set()\n",
    "\n",
    "    while number != 1 and number not in visited:\n",
    "        visited.add(number)\n",
    "        number = sum(int(digit)**2 for digit in str(number))\n",
    "\n",
    "    return number == 1\n",
    "\n",
    "number = int(input(\"Enter a number: \"))\n",
    "\n",
    "if is_happy(number):\n",
    "    print(number, \"is a Happy number\")\n",
    "else:\n",
    "    print(number, \"is not a Happy number\")\n"
   ]
  },
  {
   "cell_type": "code",
   "execution_count": null,
   "id": "1463c977",
   "metadata": {},
   "outputs": [],
   "source": [
    "4. Write a Python program to print all happy numbers between 1 and 100?\n"
   ]
  },
  {
   "cell_type": "code",
   "execution_count": 4,
   "id": "545dc6a3",
   "metadata": {},
   "outputs": [
    {
     "name": "stdout",
     "output_type": "stream",
     "text": [
      "Happy numbers between 1 and 100:\n",
      "1\n",
      "7\n",
      "10\n",
      "13\n",
      "19\n",
      "23\n",
      "28\n",
      "31\n",
      "32\n",
      "44\n",
      "49\n",
      "68\n",
      "70\n",
      "79\n",
      "82\n",
      "86\n",
      "91\n",
      "94\n",
      "97\n",
      "100\n"
     ]
    }
   ],
   "source": [
    "def is_happy(number):\n",
    "    visited = set()\n",
    "\n",
    "    while number != 1 and number not in visited:\n",
    "        visited.add(number)\n",
    "        number = sum(int(digit)**2 for digit in str(number))\n",
    "\n",
    "    return number == 1\n",
    "\n",
    "print(\"Happy numbers between 1 and 100:\")\n",
    "for i in range(1, 101):\n",
    "    if is_happy(i):\n",
    "        print(i)\n"
   ]
  },
  {
   "cell_type": "code",
   "execution_count": null,
   "id": "6bb0b9f6",
   "metadata": {},
   "outputs": [],
   "source": [
    "5. Write a Python program to determine whether the given number is a Harshad Number?\n"
   ]
  },
  {
   "cell_type": "code",
   "execution_count": 5,
   "id": "358a96da",
   "metadata": {},
   "outputs": [
    {
     "name": "stdout",
     "output_type": "stream",
     "text": [
      "Enter a number: 1235\n",
      "1235 is not a Harshad number\n"
     ]
    }
   ],
   "source": [
    "def is_harshad(number):\n",
    "    sum_of_digits = sum(int(digit) for digit in str(number))\n",
    "    return number % sum_of_digits == 0\n",
    "\n",
    "number = int(input(\"Enter a number: \"))\n",
    "\n",
    "if is_harshad(number):\n",
    "    print(number, \"is a Harshad number\")\n",
    "else:\n",
    "    print(number, \"is not a Harshad number\")\n"
   ]
  },
  {
   "cell_type": "code",
   "execution_count": null,
   "id": "23c545ee",
   "metadata": {},
   "outputs": [],
   "source": [
    "6. Write a Python program to print all pronic numbers between 1 and 100?"
   ]
  },
  {
   "cell_type": "code",
   "execution_count": 6,
   "id": "170daf10",
   "metadata": {},
   "outputs": [
    {
     "name": "stdout",
     "output_type": "stream",
     "text": [
      "Pronic numbers between 1 and 100:\n",
      "2\n",
      "6\n",
      "12\n",
      "20\n",
      "30\n",
      "42\n",
      "56\n",
      "72\n",
      "90\n"
     ]
    }
   ],
   "source": [
    "def is_pronic(number):\n",
    "    for i in range(1, int(number**0.5) + 1):\n",
    "        if i * (i + 1) == number:\n",
    "            return True\n",
    "    return False\n",
    "\n",
    "print(\"Pronic numbers between 1 and 100:\")\n",
    "for i in range(1, 101):\n",
    "    if is_pronic(i):\n",
    "        print(i)\n"
   ]
  },
  {
   "cell_type": "code",
   "execution_count": null,
   "id": "631faaa7",
   "metadata": {},
   "outputs": [],
   "source": []
  },
  {
   "cell_type": "code",
   "execution_count": null,
   "id": "6ed71878",
   "metadata": {},
   "outputs": [],
   "source": []
  }
 ],
 "metadata": {
  "kernelspec": {
   "display_name": "Python 3 (ipykernel)",
   "language": "python",
   "name": "python3"
  },
  "language_info": {
   "codemirror_mode": {
    "name": "ipython",
    "version": 3
   },
   "file_extension": ".py",
   "mimetype": "text/x-python",
   "name": "python",
   "nbconvert_exporter": "python",
   "pygments_lexer": "ipython3",
   "version": "3.10.9"
  }
 },
 "nbformat": 4,
 "nbformat_minor": 5
}

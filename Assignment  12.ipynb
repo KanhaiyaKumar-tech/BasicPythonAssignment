{
 "cells": [
  {
   "cell_type": "code",
   "execution_count": null,
   "id": "ec4f1fd7",
   "metadata": {},
   "outputs": [],
   "source": []
  },
  {
   "cell_type": "code",
   "execution_count": null,
   "id": "7a89b386",
   "metadata": {},
   "outputs": [],
   "source": []
  },
  {
   "cell_type": "code",
   "execution_count": null,
   "id": "c3adf921",
   "metadata": {},
   "outputs": [],
   "source": [
    "1. In what modes should the PdfFileReader() and PdfFileWriter() File objects will be opened?\n"
   ]
  },
  {
   "cell_type": "code",
   "execution_count": null,
   "id": "ebc07b68",
   "metadata": {},
   "outputs": [],
   "source": [
    " The `PdfFileReader()` and `PdfFileWriter()` File objects should be opened in \"rb\" (read binary) mode when working with\n",
    "    PDF files.\n",
    "    "
   ]
  },
  {
   "cell_type": "code",
   "execution_count": null,
   "id": "5a870f5f",
   "metadata": {},
   "outputs": [],
   "source": [
    "2. From a PdfFileReader object, how do you get a Page object for page 5?\n"
   ]
  },
  {
   "cell_type": "code",
   "execution_count": null,
   "id": "550ba64d",
   "metadata": {},
   "outputs": [],
   "source": [
    "To get a `Page` object for page 5 from a `PdfFileReader` object, you can use the `getPage()` method and pass the index\n",
    "of the page (0-based indexing). Here's an example:\n"
   ]
  },
  {
   "cell_type": "code",
   "execution_count": null,
   "id": "3515135a",
   "metadata": {},
   "outputs": [],
   "source": [
    "from PyPDF2 import PdfFileReader\n",
    "\n",
    "pdf_reader = PdfFileReader(open('example.pdf', 'rb'))\n",
    "page_5 = pdf_reader.getPage(4) "
   ]
  },
  {
   "cell_type": "code",
   "execution_count": null,
   "id": "0ac25e14",
   "metadata": {},
   "outputs": [],
   "source": [
    "3. What PdfFileReader variable stores the number of pages in the PDF document?\n"
   ]
  },
  {
   "cell_type": "code",
   "execution_count": null,
   "id": "d5b441ca",
   "metadata": {},
   "outputs": [],
   "source": [
    "The `numPages` variable of a `PdfFileReader` object stores the number of pages in the PDF document. You can access it\n",
    "using the dot notation. For example:\n"
   ]
  },
  {
   "cell_type": "code",
   "execution_count": null,
   "id": "18b51d70",
   "metadata": {},
   "outputs": [],
   "source": [
    "from PyPDF2 import PdfFileReader\n",
    "\n",
    "pdf_reader = PdfFileReader(open('C:/Users/iPC/Downloads/Experienced/resume.pdf', 'rb'))\n",
    "num_pages = pdf_reader.numPages"
   ]
  },
  {
   "cell_type": "code",
   "execution_count": null,
   "id": "666f83ac",
   "metadata": {},
   "outputs": [],
   "source": [
    "4. If a PdfFileReader object’s PDF is encrypted with the password swordfish, what must you do\n",
    "before you can obtain Page objects from it?"
   ]
  },
  {
   "cell_type": "code",
   "execution_count": null,
   "id": "b4ce5f94",
   "metadata": {},
   "outputs": [],
   "source": [
    " If a `PdfFileReader` object's PDF is encrypted with the password \"swordfish\", you need to use the `decrypt()` \n",
    "    method to provide the password before you can obtain `Page` objects from it. Here's an example:\n",
    "\n"
   ]
  },
  {
   "cell_type": "code",
   "execution_count": null,
   "id": "94f84e75",
   "metadata": {},
   "outputs": [],
   "source": [
    "5. What methods do you use to rotate a page?\n"
   ]
  },
  {
   "cell_type": "code",
   "execution_count": 8,
   "id": "eb14ebfa",
   "metadata": {},
   "outputs": [],
   "source": [
    "# To rotate a page in a PDF document, you can use the `rotateClockwise()` or `rotateCounterClockwise()` methods of the `Page` object. These methods accept an angle of rotation in degrees. Here's an example:\n",
    "\n",
    "\n",
    "from PyPDF2 import PdfReader, PdfWriter\n",
    "\n",
    "pdf_reader = PdfReader(open('C:/Users/iPC/Downloads/Experienced/3+resumetemplete.pdf', 'rb'))\n",
    "page =   pdf_reader.pages[0]\n",
    "\n",
    "# Rotate the page clockwise by 90 degrees\n",
    "page.rotate(90)\n",
    "\n",
    "pdf_writer = PdfWriter()\n",
    "pdf_writer.add_page(page)\n",
    "output_file = open('output.pdf', 'wb')\n",
    "pdf_writer.write(output_file)\n",
    "output_file.close()"
   ]
  },
  {
   "cell_type": "code",
   "execution_count": 9,
   "id": "15cde861",
   "metadata": {},
   "outputs": [
    {
     "name": "stdout",
     "output_type": "stream",
     "text": [
      "Requirement already satisfied: PyPDF2 in c:\\users\\ipc\\anaconda3\\lib\\site-packages (3.0.1)\n",
      "Note: you may need to restart the kernel to use updated packages.\n"
     ]
    }
   ],
   "source": [
    "pip install PyPDF2"
   ]
  },
  {
   "cell_type": "code",
   "execution_count": null,
   "id": "79c28148",
   "metadata": {},
   "outputs": [],
   "source": [
    "6. What is the difference between a Run object and a Paragraph object?\n"
   ]
  },
  {
   "cell_type": "code",
   "execution_count": null,
   "id": "a358f8b3",
   "metadata": {},
   "outputs": [],
   "source": [
    " In the context of python-docx library for working with Word documents:\n",
    "- A `Run` object represents a contiguous run of text with the same formatting within a paragraph. It can have different \n",
    "    formatting properties such as font style, size, color, etc.\n",
    "- A `Paragraph` object represents a paragraph in a Word document. It contains one or more `Run` objects.\n"
   ]
  },
  {
   "cell_type": "code",
   "execution_count": null,
   "id": "6facec09",
   "metadata": {},
   "outputs": [],
   "source": [
    "\n",
    "7. How do you obtain a list of Paragraph objects for a Document object that’s stored in a variable\n",
    "named doc?"
   ]
  },
  {
   "cell_type": "code",
   "execution_count": null,
   "id": "486dfcfc",
   "metadata": {},
   "outputs": [],
   "source": [
    "To obtain a list of `Paragraph` objects for a `Document` object stored in a variable named `doc`, you can use the\n",
    "`paragraphs` property of the `Document` object. It returns a list of `Paragraph` objects. Here's an example:\n"
   ]
  },
  {
   "cell_type": "code",
   "execution_count": null,
   "id": "d25ee73d",
   "metadata": {},
   "outputs": [],
   "source": [
    "\n",
    "8. What type of object has bold, underline, italic, strike, and outline variables?\n"
   ]
  },
  {
   "cell_type": "code",
   "execution_count": null,
   "id": "7caca14b",
   "metadata": {},
   "outputs": [],
   "source": [
    "The `Run` object in python-docx has the `bold`, `underline`, `italic`, `strike`, and `outline` variables to indicate the\n",
    "formatting properties of the text run.\n"
   ]
  },
  {
   "cell_type": "code",
   "execution_count": null,
   "id": "c072e745",
   "metadata": {},
   "outputs": [],
   "source": [
    "9. What is the difference between False, True, and None for the bold variable?\n"
   ]
  },
  {
   "cell_type": "code",
   "execution_count": null,
   "id": "10d5e01a",
   "metadata": {},
   "outputs": [],
   "source": [
    " In python-docx, the `bold` variable can take three values:\n",
    "- `True`: Indicates that the text run is formatted as bold.\n",
    "- `False`: Indicates that the text run is not formatted as bold.\n",
    "- `None`: Indicates that the text run does not explicitly specify the bold formatting, and the formatting is inherited from \n",
    "    the parent style.\n"
   ]
  },
  {
   "cell_type": "code",
   "execution_count": null,
   "id": "30e03241",
   "metadata": {},
   "outputs": [],
   "source": [
    "10. How do you create a Document object for a new Word document?\n"
   ]
  },
  {
   "cell_type": "code",
   "execution_count": 2,
   "id": "ef885a58",
   "metadata": {},
   "outputs": [
    {
     "ename": "ModuleNotFoundError",
     "evalue": "No module named 'docx'",
     "output_type": "error",
     "traceback": [
      "\u001b[1;31m---------------------------------------------------------------------------\u001b[0m",
      "\u001b[1;31mModuleNotFoundError\u001b[0m                       Traceback (most recent call last)",
      "Cell \u001b[1;32mIn[2], line 4\u001b[0m\n\u001b[0;32m      1\u001b[0m \u001b[38;5;66;03m# To create a `Document` object for a new Word document, you can use the `Document()` constructor without any arguments. Here's an example:\u001b[39;00m\n\u001b[1;32m----> 4\u001b[0m \u001b[38;5;28;01mfrom\u001b[39;00m \u001b[38;5;21;01mdocx\u001b[39;00m \u001b[38;5;28;01mimport\u001b[39;00m Document\n\u001b[0;32m      6\u001b[0m doc \u001b[38;5;241m=\u001b[39m Document()\n",
      "\u001b[1;31mModuleNotFoundError\u001b[0m: No module named 'docx'"
     ]
    }
   ],
   "source": [
    "# To create a `Document` object for a new Word document, you can use the `Document()` constructor without any arguments. Here's an example:\n",
    "\n",
    "\n",
    "from docx import Document\n",
    "\n",
    "doc = Document()"
   ]
  },
  {
   "cell_type": "code",
   "execution_count": null,
   "id": "2bb7cefa",
   "metadata": {},
   "outputs": [],
   "source": [
    "11. How do you add a paragraph with the text &#39;Hello, there!&#39; to a Document object stored in a\n",
    "variable named doc?\n"
   ]
  },
  {
   "cell_type": "code",
   "execution_count": 4,
   "id": "693af626",
   "metadata": {},
   "outputs": [
    {
     "name": "stdout",
     "output_type": "stream",
     "text": [
      "Collecting document\n",
      "  Downloading document-1.0.zip (12 kB)\n",
      "  Preparing metadata (setup.py): started\n",
      "  Preparing metadata (setup.py): finished with status 'done'\n",
      "Building wheels for collected packages: document\n",
      "  Building wheel for document (setup.py): started\n",
      "  Building wheel for document (setup.py): finished with status 'done'\n",
      "  Created wheel for document: filename=document-1.0-py3-none-any.whl size=8819 sha256=d1f2b7da9113bcd31a95acaefce97bd26a1cbc068321709c34de139a64fe2195\n",
      "  Stored in directory: c:\\users\\ipc\\appdata\\local\\pip\\cache\\wheels\\94\\b1\\d8\\62b4005cdf0bd4db8b8fe27f166c2b731d9bf1c90f1bd05f9c\n",
      "Successfully built document\n",
      "Installing collected packages: document\n",
      "Successfully installed document-1.0\n",
      "Note: you may need to restart the kernel to use updated packages.\n"
     ]
    }
   ],
   "source": [
    "pip install document"
   ]
  },
  {
   "cell_type": "code",
   "execution_count": 1,
   "id": "9452bc60",
   "metadata": {},
   "outputs": [
    {
     "ename": "ModuleNotFoundError",
     "evalue": "No module named 'docx'",
     "output_type": "error",
     "traceback": [
      "\u001b[1;31m---------------------------------------------------------------------------\u001b[0m",
      "\u001b[1;31mModuleNotFoundError\u001b[0m                       Traceback (most recent call last)",
      "Cell \u001b[1;32mIn[1], line 3\u001b[0m\n\u001b[0;32m      1\u001b[0m \u001b[38;5;66;03m# To add a paragraph with the text \"Hello, there!\" to a `Document` object stored in a variable named `doc`, you can use the `add_paragraph()` method.\u001b[39;00m\n\u001b[1;32m----> 3\u001b[0m \u001b[38;5;28;01mfrom\u001b[39;00m \u001b[38;5;21;01mdocx\u001b[39;00m \u001b[38;5;28;01mimport\u001b[39;00m Document\n\u001b[0;32m      5\u001b[0m doc \u001b[38;5;241m=\u001b[39m Document()\n\u001b[0;32m      6\u001b[0m doc\u001b[38;5;241m.\u001b[39madd_paragraph(\u001b[38;5;124m'\u001b[39m\u001b[38;5;124mHello, there!\u001b[39m\u001b[38;5;124m'\u001b[39m)\n",
      "\u001b[1;31mModuleNotFoundError\u001b[0m: No module named 'docx'"
     ]
    }
   ],
   "source": [
    "# To add a paragraph with the text \"Hello, there!\" to a `Document` object stored in a variable named `doc`, you can use the `add_paragraph()` method.\n",
    "\n",
    "from docx import Document\n",
    "\n",
    "doc = Document()\n",
    "doc.add_paragraph('Hello, there!')\n",
    "\n",
    "\n",
    "#This adds a new paragraph with the specified text to the `Document`.\n"
   ]
  },
  {
   "cell_type": "code",
   "execution_count": null,
   "id": "7ba0d297",
   "metadata": {},
   "outputs": [],
   "source": [
    "12. What integers represent the levels of headings available in Word documents?"
   ]
  },
  {
   "cell_type": "code",
   "execution_count": null,
   "id": "5bd91dfd",
   "metadata": {},
   "outputs": [],
   "source": [
    "The integers that represent the levels of headings available in Word documents are from 1 to 9. Headings in Word are styled\n",
    "with Heading 1, Heading 2, Heading 3, and so on, up to Heading 9, each representing a different level of hierarchy in the\n",
    "document structure."
   ]
  },
  {
   "cell_type": "code",
   "execution_count": null,
   "id": "eaa4a3af",
   "metadata": {},
   "outputs": [],
   "source": []
  },
  {
   "cell_type": "code",
   "execution_count": null,
   "id": "426d4f05",
   "metadata": {},
   "outputs": [],
   "source": []
  },
  {
   "cell_type": "code",
   "execution_count": null,
   "id": "26144a6c",
   "metadata": {},
   "outputs": [],
   "source": []
  },
  {
   "cell_type": "code",
   "execution_count": null,
   "id": "00bcdfb7",
   "metadata": {},
   "outputs": [],
   "source": []
  },
  {
   "cell_type": "code",
   "execution_count": null,
   "id": "2b220f80",
   "metadata": {},
   "outputs": [],
   "source": []
  },
  {
   "cell_type": "code",
   "execution_count": null,
   "id": "15b7b6c2",
   "metadata": {},
   "outputs": [],
   "source": []
  },
  {
   "cell_type": "code",
   "execution_count": null,
   "id": "c82d6016",
   "metadata": {},
   "outputs": [],
   "source": []
  }
 ],
 "metadata": {
  "kernelspec": {
   "display_name": "Python 3 (ipykernel)",
   "language": "python",
   "name": "python3"
  },
  "language_info": {
   "codemirror_mode": {
    "name": "ipython",
    "version": 3
   },
   "file_extension": ".py",
   "mimetype": "text/x-python",
   "name": "python",
   "nbconvert_exporter": "python",
   "pygments_lexer": "ipython3",
   "version": "3.10.9"
  }
 },
 "nbformat": 4,
 "nbformat_minor": 5
}

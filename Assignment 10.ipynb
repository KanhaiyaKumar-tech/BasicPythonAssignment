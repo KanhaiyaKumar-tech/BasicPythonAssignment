{
 "cells": [
  {
   "cell_type": "code",
   "execution_count": null,
   "id": "03380ed6",
   "metadata": {},
   "outputs": [],
   "source": []
  },
  {
   "cell_type": "code",
   "execution_count": null,
   "id": "b6b3c640",
   "metadata": {},
   "outputs": [],
   "source": []
  },
  {
   "cell_type": "code",
   "execution_count": null,
   "id": "0b29cf5a",
   "metadata": {},
   "outputs": [],
   "source": [
    "1. How do you distinguish between shutil.copy() and shutil.copytree()?\n"
   ]
  },
  {
   "cell_type": "code",
   "execution_count": null,
   "id": "44b21a6c",
   "metadata": {},
   "outputs": [],
   "source": [
    " The `shutil.copy()` function is used to make a copy of a single file from one location to another. It takes two arguments: \n",
    "        the source file path and the destination file path. If the destination file exists, it will be overwritten.\n",
    "\n",
    "On the other hand, the `shutil.copytree()` function is used to recursively copy an entire directory tree from one location \n",
    "to another. It takes two arguments: the source directory path and the destination directory path. It creates a new directory \n",
    "    at the destination and copies all the files and subdirectories from the source directory to the destination directory.\n",
    " \n"
   ]
  },
  {
   "cell_type": "code",
   "execution_count": null,
   "id": "53b78fbf",
   "metadata": {},
   "outputs": [],
   "source": [
    "2. What function is used to rename files??\n"
   ]
  },
  {
   "cell_type": "code",
   "execution_count": null,
   "id": "1aef6892",
   "metadata": {},
   "outputs": [],
   "source": [
    "The `os.rename()` function is used to rename files in Python. It takes two arguments: the current file name/path and\n",
    "    the new file name/path. It can be used to rename a single file by providing the full path or just the file name if\n",
    "    the file is located in the current working directory.\n"
   ]
  },
  {
   "cell_type": "code",
   "execution_count": null,
   "id": "6a3ea82c",
   "metadata": {},
   "outputs": [],
   "source": [
    "3. What is the difference between the delete functions in the send2trash and shutil modules?\n"
   ]
  },
  {
   "cell_type": "code",
   "execution_count": null,
   "id": "78aa8304",
   "metadata": {},
   "outputs": [],
   "source": [
    " The delete functions in the `send2trash` and `shutil` modules have different behaviors:\n",
    "\n",
    "- The `send2trash` module provides a function called `send2trash()` that moves a file or directory to the system's trash or\n",
    "recycle bin instead of permanently deleting it. This provides a safety net in case you accidentally delete something important.\n",
    "It works cross-platform and supports both files and directories.\n",
    "\n",
    "- The `shutil` module provides several functions for deleting files and directories, such as `os.remove()` and `os.rmdir()`. \n",
    "These functions permanently delete the specified files or directories without moving them to the trash bin. It is important\n",
    "to use these functions with caution, as the deleted files cannot be easily recovered.\n"
   ]
  },
  {
   "cell_type": "code",
   "execution_count": null,
   "id": "76e480f4",
   "metadata": {},
   "outputs": [],
   "source": [
    "4.ZipFile objects have a close() method just like File objects’ close() method. What ZipFile method is equivalent to File\n",
    "objects’ open() method?"
   ]
  },
  {
   "cell_type": "code",
   "execution_count": null,
   "id": "39a30c46",
   "metadata": {},
   "outputs": [],
   "source": [
    "The equivalent method in `ZipFile` objects to the `open()` method in `File` objects is the `extractall()` method. \n",
    "The `extractall()` method extracts all the files and folders from a ZIP archive into the current working directory or\n",
    "the specified destination directory.\n"
   ]
  },
  {
   "cell_type": "code",
   "execution_count": null,
   "id": "6aca2353",
   "metadata": {},
   "outputs": [],
   "source": [
    "5. Create a programme that searches a folder tree for files with a certain file extension (such as .pdf\n",
    "or .jpg). Copy these files from whatever location they are in to a new folder."
   ]
  },
  {
   "cell_type": "code",
   "execution_count": null,
   "id": "375ca82a",
   "metadata": {},
   "outputs": [],
   "source": [
    "# Here's an example of a program that searches a folder tree for files with a specific file extension and copies them to a\n",
    "# new folder:\n",
    "\n",
    "    \n",
    "import os\n",
    "import shutil\n",
    "\n",
    "def search_and_copy_files(source_folder, destination_folder, extension):\n",
    "    for root, dirs, files in os.walk(source_folder):\n",
    "        for file in files:\n",
    "            if file.endswith(extension):\n",
    "                source_path = os.path.join(root, file)\n",
    "                destination_path = os.path.join(destination_folder, file)\n",
    "                shutil.copy(source_path, destination_path)\n",
    "\n",
    "# Example usage\n",
    "source_folder = \"C:/Users/iPC/Documents/Python Scripts\"\n",
    "destination_folder = \"C:/Users/iPC/Documents/ineuron\"\n",
    "extension = \".pdf\"\n",
    "\n",
    "search_and_copy_files(source_folder, destination_folder, extension)\n",
    "\n",
    "\n",
    "# Make sure to replace `\"/path/to/source_folder\"`, `\"/path/to/destination_folder\"`, and `\".pdf\"` with the appropriate\n",
    "# paths and file extension you want to search for. This program will recursively search the `source_folder` and its \n",
    "# subdirectories for files with the specified extension and copy them to the `destination_folder`."
   ]
  },
  {
   "cell_type": "code",
   "execution_count": null,
   "id": "5a91b413",
   "metadata": {},
   "outputs": [],
   "source": []
  },
  {
   "cell_type": "code",
   "execution_count": null,
   "id": "a23f5362",
   "metadata": {},
   "outputs": [],
   "source": []
  },
  {
   "cell_type": "code",
   "execution_count": null,
   "id": "6ccb69f8",
   "metadata": {},
   "outputs": [],
   "source": []
  },
  {
   "cell_type": "code",
   "execution_count": null,
   "id": "7304b7c7",
   "metadata": {},
   "outputs": [],
   "source": []
  },
  {
   "cell_type": "code",
   "execution_count": null,
   "id": "eee0db8e",
   "metadata": {},
   "outputs": [],
   "source": []
  },
  {
   "cell_type": "code",
   "execution_count": null,
   "id": "d1df8221",
   "metadata": {},
   "outputs": [],
   "source": []
  },
  {
   "cell_type": "code",
   "execution_count": null,
   "id": "2157a163",
   "metadata": {},
   "outputs": [],
   "source": []
  },
  {
   "cell_type": "code",
   "execution_count": null,
   "id": "e680ecd3",
   "metadata": {},
   "outputs": [],
   "source": []
  },
  {
   "cell_type": "code",
   "execution_count": null,
   "id": "37187eb6",
   "metadata": {},
   "outputs": [],
   "source": []
  },
  {
   "cell_type": "code",
   "execution_count": null,
   "id": "2347523a",
   "metadata": {},
   "outputs": [],
   "source": []
  }
 ],
 "metadata": {
  "kernelspec": {
   "display_name": "Python 3 (ipykernel)",
   "language": "python",
   "name": "python3"
  },
  "language_info": {
   "codemirror_mode": {
    "name": "ipython",
    "version": 3
   },
   "file_extension": ".py",
   "mimetype": "text/x-python",
   "name": "python",
   "nbconvert_exporter": "python",
   "pygments_lexer": "ipython3",
   "version": "3.10.9"
  }
 },
 "nbformat": 4,
 "nbformat_minor": 5
}

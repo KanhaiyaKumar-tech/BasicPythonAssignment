{
 "cells": [
  {
   "cell_type": "code",
   "execution_count": null,
   "id": "6002fdae",
   "metadata": {},
   "outputs": [],
   "source": []
  },
  {
   "cell_type": "code",
   "execution_count": null,
   "id": "3a258d48",
   "metadata": {},
   "outputs": [],
   "source": [
    "1. What advantages do Excel spreadsheets have over CSV spreadsheets?\n"
   ]
  },
  {
   "cell_type": "code",
   "execution_count": null,
   "id": "7e4b98a5",
   "metadata": {},
   "outputs": [],
   "source": [
    " Advantages of Excel spreadsheets over CSV spreadsheets:\n",
    "   - Excel spreadsheets can contain multiple sheets, allowing for better organization and structuring of data.\n",
    "   - Excel supports various formatting options, including styles, colors, fonts, and formulas, which allows for more visually appealing and functional spreadsheets.\n",
    "   - Excel provides built-in functions and features for data analysis, sorting, filtering, and calculations.\n",
    "   - Excel supports complex data types, such as dates, times, and formulas, which can be automatically processed and calculated.\n",
    "   - Excel can handle larger datasets compared to CSV, as it has higher row and column limits.\n",
    " "
   ]
  },
  {
   "cell_type": "code",
   "execution_count": null,
   "id": "425afe55",
   "metadata": {},
   "outputs": [],
   "source": [
    "2.What do you pass to csv.reader() and csv.writer() to create reader and writer objects?\n"
   ]
  },
  {
   "cell_type": "code",
   "execution_count": 6,
   "id": "5134e2c8",
   "metadata": {},
   "outputs": [],
   "source": [
    "# To create reader and writer objects using the `csv` module, you pass a File object opened in the appropriate mode to \n",
    "# the `csv.reader()` and `csv.writer()` functions, respectively.\n",
    "\n",
    "# For example, to create a reader object:\n",
    "import csv\n",
    "\n",
    "csv_file = open('data.csv', 'r')\n",
    "reader = csv.reader(csv_file)\n",
    "\n",
    "\n"
   ]
  },
  {
   "cell_type": "code",
   "execution_count": 7,
   "id": "e007561f",
   "metadata": {},
   "outputs": [],
   "source": [
    "# To create a writer object:\n",
    "import csv\n",
    "\n",
    "csv_file = open('output.csv', 'w')\n",
    "writer = csv.writer(csv_file)\n"
   ]
  },
  {
   "cell_type": "code",
   "execution_count": null,
   "id": "c280b786",
   "metadata": {},
   "outputs": [],
   "source": [
    "3. What modes do File objects for reader and writer objects need to be opened in?\n"
   ]
  },
  {
   "cell_type": "code",
   "execution_count": null,
   "id": "ad1b2ed3",
   "metadata": {},
   "outputs": [],
   "source": [
    " File objects for reader and writer objects need to be opened in the following modes:\n",
    "   - Reader objects: The File object needs to be opened in 'r' (read) mode.\n",
    "   - Writer objects: The File object needs to be opened in 'w' (write) mode.\n"
   ]
  },
  {
   "cell_type": "code",
   "execution_count": null,
   "id": "36bfd2fd",
   "metadata": {},
   "outputs": [],
   "source": [
    "4. What method takes a list argument and writes it to a CSV file?\n"
   ]
  },
  {
   "cell_type": "code",
   "execution_count": 8,
   "id": "0e85deb7",
   "metadata": {},
   "outputs": [
    {
     "data": {
      "text/plain": [
       "15"
      ]
     },
     "execution_count": 8,
     "metadata": {},
     "output_type": "execute_result"
    }
   ],
   "source": [
    "# The `writerow()` method of the writer object takes a list argument and writes it as a row to a \n",
    "# CSV file. Each element of the list represents a cell value in the row.\n",
    "\n",
    " \n",
    "import csv\n",
    "\n",
    "csv_file = open('output.csv', 'w')\n",
    "writer = csv.writer(csv_file)\n",
    "row = ['Name', 'Age', 'City']\n",
    "writer.writerow(row)\n",
    "\n",
    "# This writes the elements of the `row` list as a row in the CSV file.\n"
   ]
  },
  {
   "cell_type": "code",
   "execution_count": null,
   "id": "a8301200",
   "metadata": {},
   "outputs": [],
   "source": [
    "5. What do the keyword arguments delimiter and line terminator do?\n"
   ]
  },
  {
   "cell_type": "code",
   "execution_count": 9,
   "id": "24848ff7",
   "metadata": {},
   "outputs": [],
   "source": [
    "# The `delimiter` keyword argument is used to specify the character that separates the fields in a CSV file.\n",
    "# By default, it is set to a comma (','), but it can be customized based on the requirements of the CSV file.\n",
    "\n",
    "# The `line_terminator` keyword argument is used to specify the character that indicates the end of a row in the CSV file.\n",
    "# By default, it is set to a newline ('\\n'). It can be modified to match the line terminator used in the CSV file, such as '\\r\\n' for Windows or '\\r' for Mac.\n",
    " \n",
    "import csv\n",
    "\n",
    "csv_file = open('data.csv', 'w')\n",
    "writer = csv.writer(csv_file, delimiter=';', lineterminator='\\r\\n')\n",
    "\n",
    "# This creates a writer object with a semicolon (';') as the delimiter and '\\r\\n' as the line terminator.\n"
   ]
  },
  {
   "cell_type": "code",
   "execution_count": null,
   "id": "874f392b",
   "metadata": {},
   "outputs": [],
   "source": [
    "6. What function takes a string of JSON data and returns a Python data structure?\n"
   ]
  },
  {
   "cell_type": "code",
   "execution_count": 10,
   "id": "59a31035",
   "metadata": {},
   "outputs": [],
   "source": [
    "#  The `json.loads()` function takes a string of JSON data and returns a corresponding Python data structure.\n",
    "# It parses the JSON data and converts it into native Python objects.\n",
    "\n",
    " \n",
    "import json\n",
    "\n",
    "json_data = '{\"name\": \"John\", \"age\": 30}'\n",
    "python_data = json.loads(json_data)\n",
    "\n",
    "# In this example, `json_data` is a string of JSON data, and `python_data` is the resulting Python data structure after \n",
    "# parsing the JSON.\n"
   ]
  },
  {
   "cell_type": "code",
   "execution_count": null,
   "id": "a5835b99",
   "metadata": {},
   "outputs": [],
   "source": [
    "7. What function takes a Python data structure and returns a string of JSON data?\n"
   ]
  },
  {
   "cell_type": "code",
   "execution_count": 11,
   "id": "a177fbe5",
   "metadata": {},
   "outputs": [],
   "source": [
    "# The `json.dumps()` function takes a Python data structure and returns a string of JSON data. It converts the Python\n",
    "# objects into a JSON-formatted string.\n",
    "\n",
    " \n",
    "import json\n",
    "\n",
    "python_data = {'name': 'John', 'age': 30}\n",
    "json_data = json.dumps(python_data)\n",
    "\n",
    "# In this example, `python_data` is a Python data structure, and `json_data` is the resulting JSON string after serializing\n",
    "# the Python data structure."
   ]
  },
  {
   "cell_type": "code",
   "execution_count": null,
   "id": "3258a48c",
   "metadata": {},
   "outputs": [],
   "source": []
  },
  {
   "cell_type": "code",
   "execution_count": null,
   "id": "4a366f50",
   "metadata": {},
   "outputs": [],
   "source": []
  },
  {
   "cell_type": "code",
   "execution_count": null,
   "id": "b0ac0218",
   "metadata": {},
   "outputs": [],
   "source": []
  },
  {
   "cell_type": "code",
   "execution_count": null,
   "id": "7efda564",
   "metadata": {},
   "outputs": [],
   "source": []
  },
  {
   "cell_type": "code",
   "execution_count": null,
   "id": "8236eded",
   "metadata": {},
   "outputs": [],
   "source": []
  },
  {
   "cell_type": "code",
   "execution_count": null,
   "id": "6d419c25",
   "metadata": {},
   "outputs": [],
   "source": []
  },
  {
   "cell_type": "code",
   "execution_count": null,
   "id": "a4e32f1e",
   "metadata": {},
   "outputs": [],
   "source": []
  },
  {
   "cell_type": "code",
   "execution_count": null,
   "id": "44750501",
   "metadata": {},
   "outputs": [],
   "source": []
  },
  {
   "cell_type": "code",
   "execution_count": null,
   "id": "f6c0f520",
   "metadata": {},
   "outputs": [],
   "source": []
  },
  {
   "cell_type": "code",
   "execution_count": null,
   "id": "01bfcbf8",
   "metadata": {},
   "outputs": [],
   "source": []
  },
  {
   "cell_type": "code",
   "execution_count": null,
   "id": "60c89a64",
   "metadata": {},
   "outputs": [],
   "source": []
  },
  {
   "cell_type": "code",
   "execution_count": null,
   "id": "19d791ce",
   "metadata": {},
   "outputs": [],
   "source": []
  },
  {
   "cell_type": "code",
   "execution_count": null,
   "id": "8a07f026",
   "metadata": {},
   "outputs": [],
   "source": []
  },
  {
   "cell_type": "code",
   "execution_count": null,
   "id": "0ee08d64",
   "metadata": {},
   "outputs": [],
   "source": []
  },
  {
   "cell_type": "code",
   "execution_count": null,
   "id": "1fd228cc",
   "metadata": {},
   "outputs": [],
   "source": []
  },
  {
   "cell_type": "code",
   "execution_count": null,
   "id": "e2db3345",
   "metadata": {},
   "outputs": [],
   "source": []
  },
  {
   "cell_type": "code",
   "execution_count": null,
   "id": "68a699a7",
   "metadata": {},
   "outputs": [],
   "source": []
  },
  {
   "cell_type": "code",
   "execution_count": null,
   "id": "de5c622b",
   "metadata": {},
   "outputs": [],
   "source": []
  },
  {
   "cell_type": "code",
   "execution_count": null,
   "id": "d766e5ee",
   "metadata": {},
   "outputs": [],
   "source": []
  },
  {
   "cell_type": "code",
   "execution_count": null,
   "id": "3f960b28",
   "metadata": {},
   "outputs": [],
   "source": []
  },
  {
   "cell_type": "code",
   "execution_count": null,
   "id": "89163308",
   "metadata": {},
   "outputs": [],
   "source": []
  },
  {
   "cell_type": "code",
   "execution_count": null,
   "id": "2ee81308",
   "metadata": {},
   "outputs": [],
   "source": []
  },
  {
   "cell_type": "code",
   "execution_count": null,
   "id": "600c5210",
   "metadata": {},
   "outputs": [],
   "source": []
  },
  {
   "cell_type": "code",
   "execution_count": null,
   "id": "0ced8edc",
   "metadata": {},
   "outputs": [],
   "source": []
  },
  {
   "cell_type": "code",
   "execution_count": null,
   "id": "138dfa3f",
   "metadata": {},
   "outputs": [],
   "source": []
  },
  {
   "cell_type": "code",
   "execution_count": null,
   "id": "dc35158e",
   "metadata": {},
   "outputs": [],
   "source": []
  },
  {
   "cell_type": "code",
   "execution_count": null,
   "id": "cbd48ce8",
   "metadata": {},
   "outputs": [],
   "source": []
  },
  {
   "cell_type": "code",
   "execution_count": null,
   "id": "96261598",
   "metadata": {},
   "outputs": [],
   "source": []
  },
  {
   "cell_type": "code",
   "execution_count": null,
   "id": "10587200",
   "metadata": {},
   "outputs": [],
   "source": []
  },
  {
   "cell_type": "code",
   "execution_count": null,
   "id": "4841c1ea",
   "metadata": {},
   "outputs": [],
   "source": []
  },
  {
   "cell_type": "code",
   "execution_count": null,
   "id": "955f55c6",
   "metadata": {},
   "outputs": [],
   "source": []
  },
  {
   "cell_type": "code",
   "execution_count": null,
   "id": "38b9388f",
   "metadata": {},
   "outputs": [],
   "source": []
  },
  {
   "cell_type": "code",
   "execution_count": null,
   "id": "0aac8456",
   "metadata": {},
   "outputs": [],
   "source": []
  },
  {
   "cell_type": "code",
   "execution_count": null,
   "id": "5a5cf1c3",
   "metadata": {},
   "outputs": [],
   "source": []
  },
  {
   "cell_type": "code",
   "execution_count": null,
   "id": "8847027d",
   "metadata": {},
   "outputs": [],
   "source": []
  }
 ],
 "metadata": {
  "kernelspec": {
   "display_name": "Python 3 (ipykernel)",
   "language": "python",
   "name": "python3"
  },
  "language_info": {
   "codemirror_mode": {
    "name": "ipython",
    "version": 3
   },
   "file_extension": ".py",
   "mimetype": "text/x-python",
   "name": "python",
   "nbconvert_exporter": "python",
   "pygments_lexer": "ipython3",
   "version": "3.10.9"
  }
 },
 "nbformat": 4,
 "nbformat_minor": 5
}

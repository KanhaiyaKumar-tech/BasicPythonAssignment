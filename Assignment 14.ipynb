{
 "cells": [
  {
   "cell_type": "code",
   "execution_count": null,
   "id": "423d76b1",
   "metadata": {},
   "outputs": [],
   "source": []
  },
  {
   "cell_type": "code",
   "execution_count": null,
   "id": "834c2aac",
   "metadata": {},
   "outputs": [],
   "source": [
    "1. What does RGBA stand for?\n"
   ]
  },
  {
   "cell_type": "code",
   "execution_count": null,
   "id": "58a2d9be",
   "metadata": {},
   "outputs": [],
   "source": [
    "RGBA stands for Red, Green, Blue, and Alpha. It is a color model that represents colors using a combination of red,\n",
    "green, and blue channels, along with an alpha channel for transparency."
   ]
  },
  {
   "cell_type": "code",
   "execution_count": null,
   "id": "8dad1f88",
   "metadata": {},
   "outputs": [],
   "source": [
    "2. From the Pillow module, how do you get the RGBA value of any images?\n"
   ]
  },
  {
   "cell_type": "code",
   "execution_count": null,
   "id": "e19e7bb1",
   "metadata": {},
   "outputs": [],
   "source": [
    "To get the RGBA value of an image using the Pillow module, you can use the getpixel() method. This method returns\n",
    "a tuple representing the RGBA values of the specified pixel."
   ]
  },
  {
   "cell_type": "code",
   "execution_count": null,
   "id": "744e4d9e",
   "metadata": {},
   "outputs": [],
   "source": [
    "3. What is a box tuple, and how does it work?\n"
   ]
  },
  {
   "cell_type": "code",
   "execution_count": null,
   "id": "8f96bdca",
   "metadata": {},
   "outputs": [],
   "source": [
    "A box tuple is a tuple that represents a rectangular region within an image. It consists of four integers: (left, upper, right, lower). The box tuple defines the boundaries of the region in terms of pixel coordinates. The pixel at the top-left corner has the coordinates (0, 0).\n",
    "\n",
    "left represents the x-coordinate of the leftmost edge of the box.\n",
    "upper represents the y-coordinate of the uppermost edge of the box.\n",
    "right represents the x-coordinate of the rightmost edge of the box (exclusive).\n",
    "lower represents the y-coordinate of the lowermost edge of the box (exclusive).\n",
    "\n",
    "The box tuple is used in various operations, such as cropping an image or selecting a specific region."
   ]
  },
  {
   "cell_type": "code",
   "execution_count": null,
   "id": "d7ae07a4",
   "metadata": {},
   "outputs": [],
   "source": [
    "4. Use your image and load in notebook then, How can you find out the width and height of an\n",
    "Image object?\n"
   ]
  },
  {
   "cell_type": "code",
   "execution_count": null,
   "id": "eb829522",
   "metadata": {},
   "outputs": [],
   "source": [
    "from PIL import Image\n",
    "\n",
    "image = Image.open('image.jpg')\n",
    "width, height = image.size"
   ]
  },
  {
   "cell_type": "code",
   "execution_count": null,
   "id": "32b5d287",
   "metadata": {},
   "outputs": [],
   "source": [
    "5. What method would you call to get Image object for a 100×100 image, excluding the lower-left\n",
    "quarter of it?\n"
   ]
  },
  {
   "cell_type": "code",
   "execution_count": null,
   "id": "0014e7b7",
   "metadata": {},
   "outputs": [],
   "source": [
    "from PIL import Image\n",
    "\n",
    "image = Image.open('image.jpg')\n",
    "cropped_image = image.crop((0, 0, 50, 50))"
   ]
  },
  {
   "cell_type": "code",
   "execution_count": null,
   "id": "12b5cdae",
   "metadata": {},
   "outputs": [],
   "source": [
    "6. After making changes to an Image object, how could you save it as an image file?\n"
   ]
  },
  {
   "cell_type": "code",
   "execution_count": null,
   "id": "a453c96c",
   "metadata": {},
   "outputs": [],
   "source": [
    "from PIL import Image\n",
    "\n",
    "image = Image.open('image.jpg')\n",
    "# Make changes to the image\n",
    "\n",
    "image.save('output.jpg')"
   ]
  },
  {
   "cell_type": "code",
   "execution_count": null,
   "id": "24b80153",
   "metadata": {},
   "outputs": [],
   "source": [
    "7. What module contains Pillow’s shape-drawing code?\n"
   ]
  },
  {
   "cell_type": "code",
   "execution_count": null,
   "id": "14ed120f",
   "metadata": {},
   "outputs": [],
   "source": [
    "Pillow's shape-drawing code is contained in the ImageDraw module. It provides methods to draw shapes such as lines,\n",
    "rectangles, ellipses, polygons, and text on Image objects.\n"
   ]
  },
  {
   "cell_type": "code",
   "execution_count": null,
   "id": "4538c706",
   "metadata": {},
   "outputs": [],
   "source": [
    "from PIL import ImageDraw\n"
   ]
  },
  {
   "cell_type": "code",
   "execution_count": null,
   "id": "2eda3a74",
   "metadata": {},
   "outputs": [],
   "source": [
    "8. Image objects do not have drawing methods. What kind of object does? How do you get this kind\n",
    "of object?"
   ]
  },
  {
   "cell_type": "code",
   "execution_count": null,
   "id": "00a3a46f",
   "metadata": {},
   "outputs": [],
   "source": [
    "ImageDraw objects have drawing methods for shapes and text. To get an ImageDraw object, you need to create it\n",
    "using the ImageDraw.Draw() function, passing the Image object as an argument."
   ]
  },
  {
   "cell_type": "code",
   "execution_count": null,
   "id": "8d3169e2",
   "metadata": {},
   "outputs": [],
   "source": [
    "from PIL import Image, ImageDraw\n",
    "\n",
    "image = Image.open('image.jpg')\n",
    "draw = ImageDraw.Draw(image)\n"
   ]
  },
  {
   "cell_type": "code",
   "execution_count": null,
   "id": "1a87173f",
   "metadata": {},
   "outputs": [],
   "source": []
  },
  {
   "cell_type": "code",
   "execution_count": null,
   "id": "eed01b40",
   "metadata": {},
   "outputs": [],
   "source": []
  },
  {
   "cell_type": "code",
   "execution_count": null,
   "id": "87de7ba0",
   "metadata": {},
   "outputs": [],
   "source": []
  },
  {
   "cell_type": "code",
   "execution_count": null,
   "id": "2ba49357",
   "metadata": {},
   "outputs": [],
   "source": []
  },
  {
   "cell_type": "code",
   "execution_count": null,
   "id": "d11e98eb",
   "metadata": {},
   "outputs": [],
   "source": []
  },
  {
   "cell_type": "code",
   "execution_count": null,
   "id": "cf5d8237",
   "metadata": {},
   "outputs": [],
   "source": []
  },
  {
   "cell_type": "code",
   "execution_count": null,
   "id": "594b6000",
   "metadata": {},
   "outputs": [],
   "source": []
  },
  {
   "cell_type": "code",
   "execution_count": null,
   "id": "a8a8451c",
   "metadata": {},
   "outputs": [],
   "source": []
  },
  {
   "cell_type": "code",
   "execution_count": null,
   "id": "93a2dc68",
   "metadata": {},
   "outputs": [],
   "source": []
  },
  {
   "cell_type": "code",
   "execution_count": null,
   "id": "7d743ee8",
   "metadata": {},
   "outputs": [],
   "source": []
  },
  {
   "cell_type": "code",
   "execution_count": null,
   "id": "c644e7b2",
   "metadata": {},
   "outputs": [],
   "source": []
  },
  {
   "cell_type": "code",
   "execution_count": null,
   "id": "e7d3c13e",
   "metadata": {},
   "outputs": [],
   "source": []
  },
  {
   "cell_type": "code",
   "execution_count": null,
   "id": "af2e9e31",
   "metadata": {},
   "outputs": [],
   "source": []
  },
  {
   "cell_type": "code",
   "execution_count": null,
   "id": "6af95930",
   "metadata": {},
   "outputs": [],
   "source": []
  }
 ],
 "metadata": {
  "kernelspec": {
   "display_name": "Python 3 (ipykernel)",
   "language": "python",
   "name": "python3"
  },
  "language_info": {
   "codemirror_mode": {
    "name": "ipython",
    "version": 3
   },
   "file_extension": ".py",
   "mimetype": "text/x-python",
   "name": "python",
   "nbconvert_exporter": "python",
   "pygments_lexer": "ipython3",
   "version": "3.10.9"
  }
 },
 "nbformat": 4,
 "nbformat_minor": 5
}

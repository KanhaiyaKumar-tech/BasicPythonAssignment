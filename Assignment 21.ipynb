{
 "cells": [
  {
   "cell_type": "code",
   "execution_count": null,
   "id": "362105be",
   "metadata": {},
   "outputs": [],
   "source": []
  },
  {
   "cell_type": "code",
   "execution_count": null,
   "id": "226ba1cf",
   "metadata": {},
   "outputs": [],
   "source": []
  },
  {
   "cell_type": "code",
   "execution_count": null,
   "id": "be7331b3",
   "metadata": {},
   "outputs": [],
   "source": [
    "1. Add the current date to the text file today.txt as a string.\n"
   ]
  },
  {
   "cell_type": "code",
   "execution_count": 6,
   "id": "67a7c9ef",
   "metadata": {},
   "outputs": [],
   "source": [
    "from datetime import date\n",
    "\n",
    "current_date = date.today().strftime(\"%Y-%m-%d\")\n",
    "\n",
    "with open(\"today.txt\", \"w\") as file:\n",
    "    file.write(current_date)\n"
   ]
  },
  {
   "cell_type": "code",
   "execution_count": null,
   "id": "856b6e4d",
   "metadata": {},
   "outputs": [],
   "source": [
    "2. Read the text file today.txt into the string today_string\n"
   ]
  },
  {
   "cell_type": "code",
   "execution_count": 7,
   "id": "8f7bfd48",
   "metadata": {},
   "outputs": [
    {
     "data": {
      "text/plain": [
       "'2023-07-13'"
      ]
     },
     "execution_count": 7,
     "metadata": {},
     "output_type": "execute_result"
    }
   ],
   "source": [
    "with open(\"today.txt\", \"r\") as file:\n",
    "    today_string = file.read()\n",
    "\n",
    "today_string"
   ]
  },
  {
   "cell_type": "code",
   "execution_count": null,
   "id": "7899e884",
   "metadata": {},
   "outputs": [],
   "source": [
    "3. Parse the date from today_string.\n"
   ]
  },
  {
   "cell_type": "code",
   "execution_count": 8,
   "id": "970dcee6",
   "metadata": {},
   "outputs": [
    {
     "data": {
      "text/plain": [
       "datetime.date(2023, 7, 13)"
      ]
     },
     "execution_count": 8,
     "metadata": {},
     "output_type": "execute_result"
    }
   ],
   "source": [
    "from datetime import datetime\n",
    "\n",
    "parsed_date = datetime.strptime(today_string, \"%Y-%m-%d\").date()\n",
    "\n",
    "parsed_date"
   ]
  },
  {
   "cell_type": "code",
   "execution_count": null,
   "id": "2dca98da",
   "metadata": {},
   "outputs": [],
   "source": [
    "4. List the files in your current directory\n"
   ]
  },
  {
   "cell_type": "code",
   "execution_count": 9,
   "id": "010be749",
   "metadata": {},
   "outputs": [
    {
     "name": "stdout",
     "output_type": "stream",
     "text": [
      ".git\n",
      ".gitignore\n",
      ".ipynb_checkpoints\n",
      "Assignment  11.ipynb\n",
      "Assignment  12.ipynb\n",
      "Assignment 1.ipynb\n",
      "Assignment 10.ipynb\n",
      "Assignment 13.ipynb\n",
      "Assignment 14.ipynb\n",
      "Assignment 15.ipynb\n",
      "Assignment 16.ipynb\n",
      "Assignment 17.ipynb\n",
      "Assignment 18.ipynb\n",
      "Assignment 19.ipynb\n",
      "Assignment 2.ipynb\n",
      "Assignment 20.ipynb\n",
      "Assignment 21.ipynb\n",
      "Assignment 22.ipynb\n",
      "Assignment 23.ipynb\n",
      "Assignment 24.ipynb\n",
      "Assignment 25.ipynb\n",
      "Assignment 3.ipynb\n",
      "Assignment 4.ipynb\n",
      "Assignment 5.ipynb\n",
      "Assignment 6.ipynb\n",
      "Assignment 7.ipynb\n",
      "Assignment 8.ipynb\n",
      "Assignment 9.ipynb\n",
      "Assignment_1.docx\n",
      "Assignment_10.docx\n",
      "Assignment_2.docx\n",
      "Assignment_3.docx\n",
      "Assignment_4.docx\n",
      "Assignment_5.docx\n",
      "Assignment_6.docx\n",
      "Assignment_7.docx\n",
      "Assignment_8.docx\n",
      "Assignment_9.docx\n",
      "books.csv\n",
      "books.db\n",
      "data.csv\n",
      "output.csv\n",
      "output.pdf\n",
      "Programming_Assingment10.docx\n",
      "Programming_Assingment5.docx\n",
      "Programming_Assingment6.docx\n",
      "Programming_Assingment7.docx\n",
      "Programming_Assingment8.docx\n",
      "Programming_Assingment9.docx\n",
      "test.txt\n",
      "today.txt\n",
      "zoo.py\n",
      "__pycache__\n"
     ]
    }
   ],
   "source": [
    "import os\n",
    "\n",
    "files = os.listdir(\".\")\n",
    "for file in files:\n",
    "    print(file)\n"
   ]
  },
  {
   "cell_type": "code",
   "execution_count": null,
   "id": "c78cbfcf",
   "metadata": {},
   "outputs": [],
   "source": [
    "5. Create a list of all of the files in your parent directory (minimum five files should be available).\n"
   ]
  },
  {
   "cell_type": "code",
   "execution_count": 10,
   "id": "ff955bfa",
   "metadata": {},
   "outputs": [
    {
     "name": "stdout",
     "output_type": "stream",
     "text": [
      "['1Data Science.pdf', 'Basic python', 'Big Data', 'Data Science', 'DSA', 'DSA Mock Test', 'dsa Mock Test 2', 'Soft Skills']\n"
     ]
    }
   ],
   "source": [
    "import os\n",
    "\n",
    "parent_directory = os.path.abspath(\"..\")\n",
    "files = os.listdir(parent_directory)\n",
    "file_list = []\n",
    "\n",
    "for file in files:\n",
    "    file_list.append(file)\n",
    "\n",
    "print(file_list)\n"
   ]
  },
  {
   "cell_type": "code",
   "execution_count": null,
   "id": "ca201d8b",
   "metadata": {},
   "outputs": [],
   "source": [
    "6. Use multiprocessing to create three separate processes. Make each one wait a random number of\n",
    "seconds between one and five, print the current time, and then exit.\n"
   ]
  },
  {
   "cell_type": "code",
   "execution_count": 11,
   "id": "e99088af",
   "metadata": {},
   "outputs": [],
   "source": [
    "import time\n",
    "import random\n",
    "import multiprocessing\n",
    "from datetime import datetime\n",
    "\n",
    "def process_function():\n",
    "    wait_time = random.randint(1, 5)\n",
    "    time.sleep(wait_time)\n",
    "    current_time = datetime.now().strftime(\"%H:%M:%S\")\n",
    "    print(f\"Process ID: {multiprocessing.current_process().pid} | Current Time: {current_time}\")\n",
    "\n",
    "if __name__ == '__main__':\n",
    "    processes = []\n",
    "    \n",
    "    for _ in range(3):\n",
    "        process = multiprocessing.Process(target=process_function)\n",
    "        processes.append(process)\n",
    "        process.start()\n",
    "\n",
    "    for process in processes:\n",
    "        process.join()\n"
   ]
  },
  {
   "cell_type": "code",
   "execution_count": null,
   "id": "789dbf16",
   "metadata": {},
   "outputs": [],
   "source": [
    "7. Create a date object of your day of birth.\n"
   ]
  },
  {
   "cell_type": "code",
   "execution_count": 12,
   "id": "00b3790e",
   "metadata": {},
   "outputs": [],
   "source": [
    "from datetime import date\n",
    "\n",
    "birth_date = date(2001, 10, 2)\n"
   ]
  },
  {
   "cell_type": "code",
   "execution_count": null,
   "id": "12294ec9",
   "metadata": {},
   "outputs": [],
   "source": [
    "8. What day of the week was your day of birth?\n"
   ]
  },
  {
   "cell_type": "code",
   "execution_count": 13,
   "id": "b97dffaa",
   "metadata": {},
   "outputs": [
    {
     "name": "stdout",
     "output_type": "stream",
     "text": [
      "Tuesday\n"
     ]
    }
   ],
   "source": [
    "from datetime import date\n",
    "\n",
    "birth_date = date(2001, 10, 2)\n",
    "day_of_week = birth_date.weekday()\n",
    "\n",
    "# Map the integer value to the corresponding day of the week\n",
    "days_of_week = [\"Monday\", \"Tuesday\", \"Wednesday\", \"Thursday\", \"Friday\", \"Saturday\", \"Sunday\"]\n",
    "day_of_week_name = days_of_week[day_of_week]\n",
    "\n",
    "print(day_of_week_name)\n"
   ]
  },
  {
   "cell_type": "code",
   "execution_count": null,
   "id": "b2c0b4b6",
   "metadata": {},
   "outputs": [],
   "source": [
    "9. When will you be (or when were you) 10,000 days old?\n"
   ]
  },
  {
   "cell_type": "code",
   "execution_count": 14,
   "id": "396e829a",
   "metadata": {},
   "outputs": [
    {
     "name": "stdout",
     "output_type": "stream",
     "text": [
      "2017-05-19\n"
     ]
    }
   ],
   "source": [
    "from datetime import date, timedelta\n",
    "\n",
    "birth_date = date(1990, 1, 1)\n",
    "target_date = birth_date + timedelta(days=10000)\n",
    "\n",
    "print(target_date)\n"
   ]
  },
  {
   "cell_type": "code",
   "execution_count": null,
   "id": "4f556569",
   "metadata": {},
   "outputs": [],
   "source": []
  },
  {
   "cell_type": "code",
   "execution_count": null,
   "id": "086518ea",
   "metadata": {},
   "outputs": [],
   "source": []
  },
  {
   "cell_type": "code",
   "execution_count": null,
   "id": "00220e74",
   "metadata": {},
   "outputs": [],
   "source": []
  },
  {
   "cell_type": "code",
   "execution_count": null,
   "id": "3cb276c4",
   "metadata": {},
   "outputs": [],
   "source": []
  },
  {
   "cell_type": "code",
   "execution_count": null,
   "id": "357641a7",
   "metadata": {},
   "outputs": [],
   "source": []
  }
 ],
 "metadata": {
  "kernelspec": {
   "display_name": "Python 3 (ipykernel)",
   "language": "python",
   "name": "python3"
  },
  "language_info": {
   "codemirror_mode": {
    "name": "ipython",
    "version": 3
   },
   "file_extension": ".py",
   "mimetype": "text/x-python",
   "name": "python",
   "nbconvert_exporter": "python",
   "pygments_lexer": "ipython3",
   "version": "3.10.9"
  }
 },
 "nbformat": 4,
 "nbformat_minor": 5
}

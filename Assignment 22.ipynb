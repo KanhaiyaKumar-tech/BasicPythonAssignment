{
 "cells": [
  {
   "cell_type": "code",
   "execution_count": null,
   "id": "86982ef3",
   "metadata": {},
   "outputs": [],
   "source": []
  },
  {
   "cell_type": "code",
   "execution_count": null,
   "id": "f0275f63",
   "metadata": {},
   "outputs": [],
   "source": []
  },
  {
   "cell_type": "code",
   "execution_count": null,
   "id": "a98f046e",
   "metadata": {},
   "outputs": [],
   "source": [
    "1. What is the result of the code, and explain?\n",
    "\n",
    "&gt;&gt;&gt; X = &#39;iNeuron&#39;\n",
    "&gt;&gt;&gt; def func():\n",
    "print(X)\n",
    "\n",
    "&gt;&gt;&gt; func()\n",
    "\n",
    "\n",
    "\n",
    "\n",
    "\n"
   ]
  },
  {
   "cell_type": "code",
   "execution_count": 4,
   "id": "38c6cfd3",
   "metadata": {},
   "outputs": [
    {
     "name": "stdout",
     "output_type": "stream",
     "text": [
      "iNeuron\n"
     ]
    }
   ],
   "source": [
    "X = \"iNeuron\";\n",
    "def func():\n",
    "    print(X)\n",
    "\n",
    "func()"
   ]
  },
  {
   "cell_type": "code",
   "execution_count": null,
   "id": "6cf64475",
   "metadata": {},
   "outputs": [],
   "source": [
    "Explanation: The variable X is defined outside the function func and has the value 'iNeuron'. Inside the function func, when the print(X) statement is executed, it refers to the global variable X and prints its value, which is 'iNeuron'."
   ]
  },
  {
   "cell_type": "code",
   "execution_count": null,
   "id": "b1cfb8f8",
   "metadata": {},
   "outputs": [],
   "source": [
    "2. What is the result of the code, and explain?\n",
    "\n",
    "&gt;&gt;&gt; X = &#39;iNeuron&#39;\n",
    "&gt;&gt;&gt; def func():\n",
    "X = &#39;NI!&#39;\n",
    "\n",
    "&gt;&gt;&gt; func()\n",
    "&gt;&gt;&gt; print(X)"
   ]
  },
  {
   "cell_type": "code",
   "execution_count": 9,
   "id": "94907186",
   "metadata": {},
   "outputs": [
    {
     "name": "stdout",
     "output_type": "stream",
     "text": [
      "iNeuron\n"
     ]
    }
   ],
   "source": [
    "X = \"iNeuron\";\n",
    "def func():\n",
    "    X = 'NI!'  \n",
    "   \n",
    "\n",
    "func()\n",
    "print(X)"
   ]
  },
  {
   "cell_type": "code",
   "execution_count": null,
   "id": "02a3e0c4",
   "metadata": {},
   "outputs": [],
   "source": [
    "Explanation: In this case, the variable X is again defined outside the function func with the value 'iNeuron'. Inside the function func, a new local variable X is created and assigned the value 'NI!'. When the func() is called, it sets the local variable X to 'NI!'. However, when print(X) is executed outside the function, it refers to the global variable X and prints its value, which is 'iNeuron'."
   ]
  },
  {
   "cell_type": "code",
   "execution_count": null,
   "id": "ea6b9a56",
   "metadata": {},
   "outputs": [],
   "source": [
    "3. What does this code print, and why?\n",
    "\n",
    "&gt;&gt;&gt; X = &#39;iNeuron&#39;\n",
    "&gt;&gt;&gt; def func():\n",
    "X = &#39;NI&#39;\n",
    "print(X)\n",
    "\n",
    "&gt;&gt;&gt; func()\n",
    "&gt;&gt;&gt; print(X)"
   ]
  },
  {
   "cell_type": "code",
   "execution_count": 10,
   "id": "a0040f77",
   "metadata": {},
   "outputs": [
    {
     "name": "stdout",
     "output_type": "stream",
     "text": [
      "NI!\n",
      "iNeuron\n"
     ]
    }
   ],
   "source": [
    "X = \"iNeuron\";\n",
    "def func():\n",
    "    X = 'NI!' \n",
    "    print(X)\n",
    "   \n",
    "\n",
    "func()\n",
    "print(X)"
   ]
  },
  {
   "cell_type": "code",
   "execution_count": null,
   "id": "7e887014",
   "metadata": {},
   "outputs": [],
   "source": [
    "Explanation: Similar to the previous example, the variable X is defined outside the function func with the value 'iNeuron'. Inside the function func, a new local variable X is created and assigned the value 'NI'. When func() is called, it sets the local variable X to 'NI' and prints it. Then, when print(X) is executed outside the function, it refers to the global variable X and prints its value, which is 'iNeuron'."
   ]
  },
  {
   "cell_type": "code",
   "execution_count": null,
   "id": "02ce5e06",
   "metadata": {},
   "outputs": [],
   "source": [
    "4. What output does this code produce? Why?\n",
    "\n",
    "&gt;&gt;&gt; X = &#39;iNeuron&#39;\n",
    "&gt;&gt;&gt; def func():\n",
    "global X\n",
    "X = &#39;NI&#39;\n",
    "\n",
    "&gt;&gt;&gt; func()\n",
    "&gt;&gt;&gt; print(X)"
   ]
  },
  {
   "cell_type": "code",
   "execution_count": 11,
   "id": "ceb79824",
   "metadata": {},
   "outputs": [
    {
     "name": "stdout",
     "output_type": "stream",
     "text": [
      "NI!\n"
     ]
    }
   ],
   "source": [
    "X = \"iNeuron\";\n",
    "def func():\n",
    "    global X\n",
    "    X = 'NI!' \n",
    "   \n",
    "\n",
    "func()\n",
    "print(X)"
   ]
  },
  {
   "cell_type": "code",
   "execution_count": null,
   "id": "e8d2645c",
   "metadata": {},
   "outputs": [],
   "source": [
    "Explanation: In this case, the global keyword is used inside the function func to indicate that the variable X refers to the global variable, not a local variable. So when func() is called, it sets the global variable X to 'NI'. When print(X) is executed outside the function, it prints the value of the global variable X, which is 'NI'."
   ]
  },
  {
   "cell_type": "code",
   "execution_count": null,
   "id": "4c9dac92",
   "metadata": {},
   "outputs": [],
   "source": [
    "5. What about this code—what’s the output, and why?\n",
    "\n",
    "&gt;&gt;&gt; X = &#39;iNeuron&#39;\n",
    "&gt;&gt;&gt; def func():\n",
    "X = &#39;NI&#39;\n",
    "def nested():\n",
    "print(X)\n",
    "nested()\n",
    "\n",
    "&gt;&gt;&gt; func()\n",
    "&gt;&gt;&gt; X"
   ]
  },
  {
   "cell_type": "code",
   "execution_count": 15,
   "id": "42e14286",
   "metadata": {},
   "outputs": [
    {
     "data": {
      "text/plain": [
       "'iNeuron'"
      ]
     },
     "execution_count": 15,
     "metadata": {},
     "output_type": "execute_result"
    }
   ],
   "source": [
    "X = \"iNeuron\";\n",
    "def func(): \n",
    "    X = 'NI!' \n",
    "\n",
    "    def nested():\n",
    "        print(X)\n",
    "        nested()\n",
    "\n",
    "func()\n",
    "X"
   ]
  },
  {
   "cell_type": "code",
   "execution_count": null,
   "id": "70bd43ff",
   "metadata": {},
   "outputs": [],
   "source": [
    "Explanation: In this case, the function func() defines a local variable X with the value 'NI'. Inside func(), the function nested() is defined, which prints the value of X. When func() is called, it sets the local variable X to 'NI' and then calls nested(). The nested() function prints the value of the local variable X, which is 'NI'."
   ]
  },
  {
   "cell_type": "code",
   "execution_count": null,
   "id": "e274ab80",
   "metadata": {},
   "outputs": [],
   "source": [
    "\n",
    "\n",
    "\n",
    "\n",
    "6. How about this code: what is its output in Python 3, and explain?\n",
    "\n",
    "&gt;&gt;&gt; def func():\n",
    "X = &#39;NI&#39;\n",
    "def nested():\n",
    "nonlocal X\n",
    "X = &#39;Spam&#39;\n",
    "nested()\n",
    "print(X)\n",
    "\n",
    "&gt;&gt;&gt; func()"
   ]
  },
  {
   "cell_type": "code",
   "execution_count": 14,
   "id": "78ad824a",
   "metadata": {},
   "outputs": [],
   "source": [
    "def func():\n",
    "    X = \"NI!\"\n",
    "    \n",
    "    def nested():\n",
    "        nonlocal X\n",
    "        X = 'Spam'\n",
    "        nested()\n",
    "        print(X)\n",
    "    \n",
    "func()"
   ]
  },
  {
   "cell_type": "code",
   "execution_count": null,
   "id": "42e72cde",
   "metadata": {},
   "outputs": [],
   "source": [
    "Explanation: In this example, the function func() defines a local variable X with the value 'NI'. Inside func(), the function nested() is defined, and the nonlocal keyword is used to indicate that X refers to the variable in the nearest enclosing scope (which is the func() scope), not a local variable. The nested() function sets X to 'Spam'. When func() is called, it sets the local variable X to 'NI', then calls nested(), which modifies the nonlocal variable X to 'Spam'. Finally, print(X) inside func() prints the value of the nonlocal variable X, which is 'Spam'."
   ]
  },
  {
   "cell_type": "code",
   "execution_count": null,
   "id": "a6e7248f",
   "metadata": {},
   "outputs": [],
   "source": []
  },
  {
   "cell_type": "code",
   "execution_count": null,
   "id": "af4c0d5f",
   "metadata": {},
   "outputs": [],
   "source": []
  },
  {
   "cell_type": "code",
   "execution_count": null,
   "id": "f0a055f2",
   "metadata": {},
   "outputs": [],
   "source": []
  },
  {
   "cell_type": "code",
   "execution_count": null,
   "id": "2bfbea4b",
   "metadata": {},
   "outputs": [],
   "source": []
  },
  {
   "cell_type": "code",
   "execution_count": null,
   "id": "a2e297e9",
   "metadata": {},
   "outputs": [],
   "source": []
  },
  {
   "cell_type": "code",
   "execution_count": null,
   "id": "96ed768c",
   "metadata": {},
   "outputs": [],
   "source": []
  },
  {
   "cell_type": "code",
   "execution_count": null,
   "id": "81ee1e79",
   "metadata": {},
   "outputs": [],
   "source": []
  },
  {
   "cell_type": "code",
   "execution_count": null,
   "id": "8b44333b",
   "metadata": {},
   "outputs": [],
   "source": []
  },
  {
   "cell_type": "code",
   "execution_count": null,
   "id": "3d457f91",
   "metadata": {},
   "outputs": [],
   "source": []
  },
  {
   "cell_type": "code",
   "execution_count": null,
   "id": "8982443e",
   "metadata": {},
   "outputs": [],
   "source": []
  },
  {
   "cell_type": "code",
   "execution_count": null,
   "id": "a3f36a4e",
   "metadata": {},
   "outputs": [],
   "source": []
  },
  {
   "cell_type": "code",
   "execution_count": null,
   "id": "c051d529",
   "metadata": {},
   "outputs": [],
   "source": []
  },
  {
   "cell_type": "code",
   "execution_count": null,
   "id": "d53b19d5",
   "metadata": {},
   "outputs": [],
   "source": []
  },
  {
   "cell_type": "code",
   "execution_count": null,
   "id": "31383749",
   "metadata": {},
   "outputs": [],
   "source": []
  },
  {
   "cell_type": "code",
   "execution_count": null,
   "id": "e1fad2a6",
   "metadata": {},
   "outputs": [],
   "source": []
  },
  {
   "cell_type": "code",
   "execution_count": null,
   "id": "9a6e545d",
   "metadata": {},
   "outputs": [],
   "source": []
  },
  {
   "cell_type": "code",
   "execution_count": null,
   "id": "c6c655b0",
   "metadata": {},
   "outputs": [],
   "source": []
  },
  {
   "cell_type": "code",
   "execution_count": null,
   "id": "093d0601",
   "metadata": {},
   "outputs": [],
   "source": []
  }
 ],
 "metadata": {
  "kernelspec": {
   "display_name": "Python 3 (ipykernel)",
   "language": "python",
   "name": "python3"
  },
  "language_info": {
   "codemirror_mode": {
    "name": "ipython",
    "version": 3
   },
   "file_extension": ".py",
   "mimetype": "text/x-python",
   "name": "python",
   "nbconvert_exporter": "python",
   "pygments_lexer": "ipython3",
   "version": "3.10.9"
  }
 },
 "nbformat": 4,
 "nbformat_minor": 5
}

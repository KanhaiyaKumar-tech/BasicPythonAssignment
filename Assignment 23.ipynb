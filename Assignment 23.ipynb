{
 "cells": [
  {
   "cell_type": "code",
   "execution_count": null,
   "id": "9eab5fb7",
   "metadata": {},
   "outputs": [],
   "source": []
  },
  {
   "cell_type": "code",
   "execution_count": null,
   "id": "7d75e514",
   "metadata": {},
   "outputs": [],
   "source": []
  },
  {
   "cell_type": "code",
   "execution_count": null,
   "id": "3dddb7dd",
   "metadata": {},
   "outputs": [],
   "source": [
    "1. What is the result of the code, and why?\n",
    "&gt;&gt;&gt; def func(a, b=6, c=8):\n",
    "print(a, b, c)\n",
    "&gt;&gt;&gt; func(1, 2)\n"
   ]
  },
  {
   "cell_type": "code",
   "execution_count": null,
   "id": "63eadcee",
   "metadata": {},
   "outputs": [],
   "source": [
    " The result of the code will be:\n",
    "1 2 8"
   ]
  },
  {
   "cell_type": "code",
   "execution_count": null,
   "id": "c9eec9cc",
   "metadata": {},
   "outputs": [],
   "source": [
    "Explanation: In the function `func`, the parameter `a` is assigned the value `1`, the parameter `b` is assigned the value `2` (provided as the second argument), and the parameter `c` takes its default value of `8`. When the function is called with `func(1, 2)`, the arguments `1` and `2` are assigned to `a` and `b` respectively, and the default value `8` is used for `c`. Thus, when `print(a, b, c)` is executed, it will print `1 2 8`.\n"
   ]
  },
  {
   "cell_type": "code",
   "execution_count": null,
   "id": "072d9f9b",
   "metadata": {},
   "outputs": [],
   "source": [
    "2. What is the result of this code, and why?\n",
    "&gt;&gt;&gt; def func(a, b, c=5):\n",
    "print(a, b, c)\n",
    "&gt;&gt;&gt; func(1, c=3, b=2)"
   ]
  },
  {
   "cell_type": "code",
   "execution_count": null,
   "id": "8f9f025e",
   "metadata": {},
   "outputs": [],
   "source": [
    "The result of the code will be:\n",
    "1 2 3\n",
    "    "
   ]
  },
  {
   "cell_type": "code",
   "execution_count": null,
   "id": "7a78abc8",
   "metadata": {},
   "outputs": [],
   "source": [
    "Explanation: In the function `func`, the parameters `a`, `b`, and `c` are defined. When the function is called with `func(1, c=3, b=2)`, the argument `1` is assigned to `a`, the argument `2` is assigned to `b`, and the argument `3` is assigned to `c`. The `c` parameter is explicitly provided with a value of `3`, overriding its default value. Thus, when `print(a, b, c)` is executed, it will print `1 2 3`.\n"
   ]
  },
  {
   "cell_type": "code",
   "execution_count": null,
   "id": "673130d5",
   "metadata": {},
   "outputs": [],
   "source": [
    "3. How about this code: what is its result, and why?\n",
    "&gt;&gt;&gt; def func(a, *pargs):\n",
    "print(a, pargs)\n",
    "&gt;&gt;&gt; func(1, 2, 3)"
   ]
  },
  {
   "cell_type": "code",
   "execution_count": null,
   "id": "a80167c6",
   "metadata": {},
   "outputs": [],
   "source": [
    "The result of the code will be:\n",
    "1 (2, 3)\n",
    "    "
   ]
  },
  {
   "cell_type": "code",
   "execution_count": null,
   "id": "f506337c",
   "metadata": {},
   "outputs": [],
   "source": [
    "Explanation: In the function `func`, the parameter `a` is defined as a regular parameter, and `*pargs` is defined as a variable-length argument parameter. When the function is called with `func(1, 2, 3)`, the value `1` is assigned to `a`, and the remaining arguments `2` and `3` are collected into a tuple and assigned to `pargs`. Thus, when `print(a, pargs)` is executed, it will print `1 (2, 3)`.\n"
   ]
  },
  {
   "cell_type": "code",
   "execution_count": null,
   "id": "f0a056e4",
   "metadata": {},
   "outputs": [],
   "source": [
    "4. What does this code print, and why?\n",
    "&gt;&gt;&gt; def func(a, **kargs):\n",
    "print(a, kargs)\n",
    "&gt;&gt;&gt; func(a=1, c=3, b=2)"
   ]
  },
  {
   "cell_type": "code",
   "execution_count": null,
   "id": "d0ebf21b",
   "metadata": {},
   "outputs": [],
   "source": [
    "The result of the code will be:\n",
    "1 {'c': 3, 'b': 2}\n",
    "    "
   ]
  },
  {
   "cell_type": "code",
   "execution_count": null,
   "id": "cf96c382",
   "metadata": {},
   "outputs": [],
   "source": [
    "Explanation: In the function `func`, the parameter `a` is defined as a regular parameter, and `**kargs` is defined as a keyword argument parameter. When the function is called with `func(a=1, c=3, b=2)`, the keyword arguments `c=3` and `b=2` are collected into a dictionary and assigned to `kargs`. The parameter `a` takes its default value of `1`. Thus, when `print(a, kargs)` is executed, it will print `1 {'c': 3, 'b': 2}`.\n"
   ]
  },
  {
   "cell_type": "code",
   "execution_count": null,
   "id": "3859be2a",
   "metadata": {},
   "outputs": [],
   "source": [
    "5. What gets printed by this, and explain?\n",
    "&gt;&gt;&gt; def func(a, b, c=8, d=5): print(a, b, c, d)\n",
    "&gt;&gt;&gt; func(1, *(5, 6))"
   ]
  },
  {
   "cell_type": "code",
   "execution_count": null,
   "id": "4db5f6bb",
   "metadata": {},
   "outputs": [],
   "source": [
    "The result of the code will be:\n",
    "    1 5 6 5\n"
   ]
  },
  {
   "cell_type": "code",
   "execution_count": null,
   "id": "e5673da7",
   "metadata": {},
   "outputs": [],
   "source": [
    "Explanation: In the function `func`, the parameters `a`, `b`, `c`, and `d` are defined. When the function is called with `func(1, *(5, 6))`, the value `1` is assigned to `a`, and the tuple `(5, 6)` is unpacked to assign `5` to `b` and `6` to `c` (since `c` is the second parameter). The default value `5` is used for `d`. Thus, when `print(a, b, c, d)` is executed, it will print `1 5 6 5`.\n"
   ]
  },
  {
   "cell_type": "code",
   "execution_count": null,
   "id": "0cbd0309",
   "metadata": {},
   "outputs": [],
   "source": [
    "\n",
    "6. what is the result of this, and explain?\n",
    "&gt;&gt;&gt; def func(a, b, c): a = 2; b[0] = &#39;x&#39;; c[&#39;a&#39;] = &#39;y&#39;\n",
    "&gt;&gt;&gt; l=1; m=[1]; n={&#39;a&#39;:0}\n",
    "&gt;&gt;&gt; func(l, m, n)\n",
    "\n",
    "&gt;&gt;&gt; l, m, n"
   ]
  },
  {
   "cell_type": "code",
   "execution_count": null,
   "id": "00d2c621",
   "metadata": {},
   "outputs": [],
   "source": [
    " The result of the code will be:\n",
    " \n",
    "\n",
    "1 ['x'] {'a': 'y'}\n"
   ]
  },
  {
   "cell_type": "code",
   "execution_count": null,
   "id": "5efb4695",
   "metadata": {},
   "outputs": [],
   "source": [
    "\n",
    "Explanation: In the function `func`, the parameters `a`, `b`, and `c` are defined. Inside the function, the value of `a` is reassigned to `2`, the first element of the list `b` is changed to `'x'`, and the dictionary `c` is modified by assigning the value `'y'` to the key `'a'`. \n",
    "\n",
    "Before calling the function, `l` is assigned the value `1`, `m` is assigned a list `[1]`, and `n` is assigned a dictionary `{'a': 0}`. When `func(l, m, n)` is called, the values of `l`, `m`, and `n` are passed as arguments, so they are assigned to `a`, `b`, and `c` respectively. Since `b` and `c` are mutable types (list and dictionary), any modifications made within the function affect the original objects.\n",
    "\n",
    "Therefore, after calling `func`, `l` remains `1` (immutable type), `m` is modified to `['x']`, and `n` is modified to `{'a': 'y'}`."
   ]
  },
  {
   "cell_type": "code",
   "execution_count": null,
   "id": "4c2fe274",
   "metadata": {},
   "outputs": [],
   "source": []
  },
  {
   "cell_type": "code",
   "execution_count": null,
   "id": "e777b79b",
   "metadata": {},
   "outputs": [],
   "source": []
  },
  {
   "cell_type": "code",
   "execution_count": null,
   "id": "a2e97b89",
   "metadata": {},
   "outputs": [],
   "source": []
  },
  {
   "cell_type": "code",
   "execution_count": null,
   "id": "c610a710",
   "metadata": {},
   "outputs": [],
   "source": []
  },
  {
   "cell_type": "code",
   "execution_count": null,
   "id": "0d632d6e",
   "metadata": {},
   "outputs": [],
   "source": []
  },
  {
   "cell_type": "code",
   "execution_count": null,
   "id": "c7043f81",
   "metadata": {},
   "outputs": [],
   "source": []
  },
  {
   "cell_type": "code",
   "execution_count": null,
   "id": "dc00294e",
   "metadata": {},
   "outputs": [],
   "source": []
  },
  {
   "cell_type": "code",
   "execution_count": null,
   "id": "f4e39466",
   "metadata": {},
   "outputs": [],
   "source": []
  },
  {
   "cell_type": "code",
   "execution_count": null,
   "id": "2fa15e98",
   "metadata": {},
   "outputs": [],
   "source": []
  },
  {
   "cell_type": "code",
   "execution_count": null,
   "id": "70c7e5dd",
   "metadata": {},
   "outputs": [],
   "source": []
  },
  {
   "cell_type": "code",
   "execution_count": null,
   "id": "ef2bbab8",
   "metadata": {},
   "outputs": [],
   "source": []
  },
  {
   "cell_type": "code",
   "execution_count": null,
   "id": "cac034a6",
   "metadata": {},
   "outputs": [],
   "source": []
  },
  {
   "cell_type": "code",
   "execution_count": null,
   "id": "9751f54e",
   "metadata": {},
   "outputs": [],
   "source": []
  },
  {
   "cell_type": "code",
   "execution_count": null,
   "id": "a549a5c0",
   "metadata": {},
   "outputs": [],
   "source": []
  },
  {
   "cell_type": "code",
   "execution_count": null,
   "id": "8ed21542",
   "metadata": {},
   "outputs": [],
   "source": []
  },
  {
   "cell_type": "code",
   "execution_count": null,
   "id": "18193ace",
   "metadata": {},
   "outputs": [],
   "source": []
  },
  {
   "cell_type": "code",
   "execution_count": null,
   "id": "ff654b46",
   "metadata": {},
   "outputs": [],
   "source": []
  },
  {
   "cell_type": "code",
   "execution_count": null,
   "id": "90458cfe",
   "metadata": {},
   "outputs": [],
   "source": []
  },
  {
   "cell_type": "code",
   "execution_count": null,
   "id": "31bda517",
   "metadata": {},
   "outputs": [],
   "source": []
  },
  {
   "cell_type": "code",
   "execution_count": null,
   "id": "dcde21d8",
   "metadata": {},
   "outputs": [],
   "source": []
  },
  {
   "cell_type": "code",
   "execution_count": null,
   "id": "a8435dde",
   "metadata": {},
   "outputs": [],
   "source": []
  },
  {
   "cell_type": "code",
   "execution_count": null,
   "id": "19e6a606",
   "metadata": {},
   "outputs": [],
   "source": []
  },
  {
   "cell_type": "code",
   "execution_count": null,
   "id": "ceb1165f",
   "metadata": {},
   "outputs": [],
   "source": []
  },
  {
   "cell_type": "code",
   "execution_count": null,
   "id": "df7f1ad8",
   "metadata": {},
   "outputs": [],
   "source": []
  },
  {
   "cell_type": "code",
   "execution_count": null,
   "id": "963e937d",
   "metadata": {},
   "outputs": [],
   "source": []
  },
  {
   "cell_type": "code",
   "execution_count": null,
   "id": "15d78317",
   "metadata": {},
   "outputs": [],
   "source": []
  },
  {
   "cell_type": "code",
   "execution_count": null,
   "id": "431ea252",
   "metadata": {},
   "outputs": [],
   "source": []
  },
  {
   "cell_type": "code",
   "execution_count": null,
   "id": "297de708",
   "metadata": {},
   "outputs": [],
   "source": []
  },
  {
   "cell_type": "code",
   "execution_count": null,
   "id": "4caf0ce2",
   "metadata": {},
   "outputs": [],
   "source": []
  },
  {
   "cell_type": "code",
   "execution_count": null,
   "id": "97bcdc2d",
   "metadata": {},
   "outputs": [],
   "source": []
  },
  {
   "cell_type": "code",
   "execution_count": null,
   "id": "15419ce0",
   "metadata": {},
   "outputs": [],
   "source": []
  },
  {
   "cell_type": "code",
   "execution_count": null,
   "id": "4a38e8d0",
   "metadata": {},
   "outputs": [],
   "source": []
  },
  {
   "cell_type": "code",
   "execution_count": null,
   "id": "04103059",
   "metadata": {},
   "outputs": [],
   "source": []
  },
  {
   "cell_type": "code",
   "execution_count": null,
   "id": "60d99969",
   "metadata": {},
   "outputs": [],
   "source": []
  },
  {
   "cell_type": "code",
   "execution_count": null,
   "id": "696c869e",
   "metadata": {},
   "outputs": [],
   "source": []
  },
  {
   "cell_type": "code",
   "execution_count": null,
   "id": "8c59cff3",
   "metadata": {},
   "outputs": [],
   "source": []
  },
  {
   "cell_type": "code",
   "execution_count": null,
   "id": "785b00cc",
   "metadata": {},
   "outputs": [],
   "source": []
  },
  {
   "cell_type": "code",
   "execution_count": null,
   "id": "f518f8f0",
   "metadata": {},
   "outputs": [],
   "source": []
  },
  {
   "cell_type": "code",
   "execution_count": null,
   "id": "b4bc2ed1",
   "metadata": {},
   "outputs": [],
   "source": []
  },
  {
   "cell_type": "code",
   "execution_count": null,
   "id": "76632bec",
   "metadata": {},
   "outputs": [],
   "source": []
  },
  {
   "cell_type": "code",
   "execution_count": null,
   "id": "bf3639a1",
   "metadata": {},
   "outputs": [],
   "source": []
  },
  {
   "cell_type": "code",
   "execution_count": null,
   "id": "34072475",
   "metadata": {},
   "outputs": [],
   "source": []
  },
  {
   "cell_type": "code",
   "execution_count": null,
   "id": "89fb82dc",
   "metadata": {},
   "outputs": [],
   "source": []
  }
 ],
 "metadata": {
  "kernelspec": {
   "display_name": "Python 3 (ipykernel)",
   "language": "python",
   "name": "python3"
  },
  "language_info": {
   "codemirror_mode": {
    "name": "ipython",
    "version": 3
   },
   "file_extension": ".py",
   "mimetype": "text/x-python",
   "name": "python",
   "nbconvert_exporter": "python",
   "pygments_lexer": "ipython3",
   "version": "3.10.9"
  }
 },
 "nbformat": 4,
 "nbformat_minor": 5
}

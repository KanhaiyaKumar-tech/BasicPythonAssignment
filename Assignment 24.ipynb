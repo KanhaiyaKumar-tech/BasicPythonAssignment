{
 "cells": [
  {
   "cell_type": "code",
   "execution_count": null,
   "id": "d777ba86",
   "metadata": {},
   "outputs": [],
   "source": []
  },
  {
   "cell_type": "code",
   "execution_count": null,
   "id": "af55b2a6",
   "metadata": {},
   "outputs": [],
   "source": []
  },
  {
   "cell_type": "code",
   "execution_count": null,
   "id": "b7240236",
   "metadata": {},
   "outputs": [],
   "source": [
    "1. What is the relationship between def statements and lambda expressions ?\n"
   ]
  },
  {
   "cell_type": "code",
   "execution_count": null,
   "id": "f01fdfcf",
   "metadata": {},
   "outputs": [],
   "source": [
    "Def statements and lambda expressions are both used to create functions in Python. However, there are some key differences between the two.\n",
    "\n",
    "Def statements are more powerful than lambda expressions. They can be used to create functions with multiple lines of code, and they can be assigned to variables.\n",
    "Lambda expressions are more concise than def statements. They can only be used to create functions with a single expression, and they cannot be assigned to variables.\n",
    "\n",
    "In general, def is statements should be used when you need to create a function that is more than a single line of code, or when you need to assign the function to a variable.\n",
    "Lambda expressions should be used when you need to create a simple function that is only a single line of code, and when you do not need to assign the function to a variable."
   ]
  },
  {
   "cell_type": "code",
   "execution_count": null,
   "id": "188ccd9b",
   "metadata": {},
   "outputs": [],
   "source": []
  },
  {
   "cell_type": "code",
   "execution_count": null,
   "id": "3263128c",
   "metadata": {},
   "outputs": [],
   "source": [
    "2. What is the benefit of lambda?\n"
   ]
  },
  {
   "cell_type": "code",
   "execution_count": null,
   "id": "527f42c9",
   "metadata": {},
   "outputs": [],
   "source": [
    "The main benefit of lambda expressions is that they are concise. This makes them ideal for creating small, one-off functions\n",
    "that are only used in a specific context. For example, you might use a lambda expression to filter a list of items, or to map \n",
    "a function over a sequence of values.\n",
    "\n",
    "Another benefit of lambda expressions is that they can be used as arguments to other functions. This makes them a powerful\n",
    "tool for creating recursive functions and for chaining together functions."
   ]
  },
  {
   "cell_type": "code",
   "execution_count": null,
   "id": "642748f3",
   "metadata": {},
   "outputs": [],
   "source": []
  },
  {
   "cell_type": "code",
   "execution_count": null,
   "id": "50241ecf",
   "metadata": {},
   "outputs": [],
   "source": [
    "3. Compare and contrast map, filter, and reduce.\n"
   ]
  },
  {
   "cell_type": "code",
   "execution_count": null,
   "id": "d33330dd",
   "metadata": {},
   "outputs": [],
   "source": [
    "Map, filter, and reduce are all built-in functions in Python that operate on sequences of values. They are all designed to be\n",
    "used with lambda expressions, but they each have a different purpose.\n",
    "\n",
    "Map takes a function and a sequence of values, and it applies the function to each item in the sequence. The result is a new \n",
    "sequence of values, where each item is the result of applying the function to the corresponding item in the original sequence.\n",
    "Filter takes a function and a sequence of values, and it returns a new sequence that contains only the items in the original\n",
    "sequence for which the function returns True.\n",
    "\n",
    "Reduce takes a function and a sequence of values, and it repeatedly applies the function to the sequence, starting with the\n",
    "first two items. The result is a single value, which is the final result of applying the function to the entire sequence."
   ]
  },
  {
   "cell_type": "code",
   "execution_count": null,
   "id": "1ca50b23",
   "metadata": {},
   "outputs": [],
   "source": []
  },
  {
   "cell_type": "code",
   "execution_count": null,
   "id": "36be6874",
   "metadata": {},
   "outputs": [],
   "source": [
    "4. What are function annotations, and how are they used?\n"
   ]
  },
  {
   "cell_type": "code",
   "execution_count": null,
   "id": "be6b1cef",
   "metadata": {},
   "outputs": [],
   "source": [
    "Function annotations are a way of adding metadata to functions. They can be used to specify the types of the arguments and\n",
    "the return value of a function.\n",
    "\n",
    "Function annotations are not required, but they can be helpful for making code more readable and for preventing errors.\n",
    "For example, if you annotate a function with the type of its return value, you can be sure that the function will always\n",
    "return a value of that type."
   ]
  },
  {
   "cell_type": "code",
   "execution_count": null,
   "id": "bc6d27fc",
   "metadata": {},
   "outputs": [],
   "source": []
  },
  {
   "cell_type": "code",
   "execution_count": null,
   "id": "6483ebf6",
   "metadata": {},
   "outputs": [],
   "source": [
    "5. What are recursive functions, and how are they used?\n"
   ]
  },
  {
   "cell_type": "code",
   "execution_count": null,
   "id": "c967da86",
   "metadata": {},
   "outputs": [],
   "source": [
    "Recursive functions are functions that call themselves. This can be used to solve problems that involve breaking down a \n",
    "problem into smaller and smaller subproblems.\n",
    "\n",
    "For example, you could use a recursive function to calculate the factorial of a number. The factorial of a number is\n",
    "the product of all the positive integers less than or equal to the number. So, the factorial of 5 is 120, because 120\n",
    "is the product of 1, 2, 3, 4, and 5."
   ]
  },
  {
   "cell_type": "code",
   "execution_count": null,
   "id": "9773d24b",
   "metadata": {},
   "outputs": [],
   "source": []
  },
  {
   "cell_type": "code",
   "execution_count": null,
   "id": "21ff2be6",
   "metadata": {},
   "outputs": [],
   "source": [
    "6. What are some general design guidelines for coding functions?\n"
   ]
  },
  {
   "cell_type": "code",
   "execution_count": null,
   "id": "2716a10b",
   "metadata": {},
   "outputs": [],
   "source": [
    "Here are some general design guidelines for coding functions:\n",
    "\n",
    "Make your functions as small and concise as possible.\n",
    "Use descriptive names for your functions and parameters.\n",
    "Use function annotations to specify the types of your arguments and return value.\n",
    "Document your functions with clear and concise comments.\n",
    "Test your functions thoroughly."
   ]
  },
  {
   "cell_type": "code",
   "execution_count": null,
   "id": "2fc798a8",
   "metadata": {},
   "outputs": [],
   "source": []
  },
  {
   "cell_type": "code",
   "execution_count": null,
   "id": "8da97024",
   "metadata": {},
   "outputs": [],
   "source": [
    "7. Name three or more ways that functions can communicate results to a caller.\n"
   ]
  },
  {
   "cell_type": "code",
   "execution_count": null,
   "id": "47ac0713",
   "metadata": {},
   "outputs": [],
   "source": [
    "There are many ways that functions can communicate results to a caller. Here are three examples:\n",
    "\n",
    "Returning a value. This is the most common way for a function to communicate a result. The value that is returned can be\n",
    "any type of object, including a primitive type, a collection, or a custom object.\n",
    "\n",
    "Printing to the console. This is a simple way for a function to communicate a result to the user. The output that is \n",
    "printed can be any type of object, but it is typically a string or a collection.\n",
    "\n",
    "Writing to a file. This is a way for a function to store a result in a file. The output that is written to the file can\n",
    "be any type of object, but it is typically a string or a collection."
   ]
  },
  {
   "cell_type": "code",
   "execution_count": null,
   "id": "a41c65de",
   "metadata": {},
   "outputs": [],
   "source": []
  },
  {
   "cell_type": "code",
   "execution_count": null,
   "id": "814ff2e5",
   "metadata": {},
   "outputs": [],
   "source": []
  },
  {
   "cell_type": "code",
   "execution_count": null,
   "id": "88c2a3e9",
   "metadata": {},
   "outputs": [],
   "source": []
  },
  {
   "cell_type": "code",
   "execution_count": null,
   "id": "a390e02b",
   "metadata": {},
   "outputs": [],
   "source": []
  },
  {
   "cell_type": "code",
   "execution_count": null,
   "id": "470deee3",
   "metadata": {},
   "outputs": [],
   "source": []
  },
  {
   "cell_type": "code",
   "execution_count": null,
   "id": "e39657ad",
   "metadata": {},
   "outputs": [],
   "source": []
  },
  {
   "cell_type": "code",
   "execution_count": null,
   "id": "68ac2d64",
   "metadata": {},
   "outputs": [],
   "source": []
  },
  {
   "cell_type": "code",
   "execution_count": null,
   "id": "b88d2a30",
   "metadata": {},
   "outputs": [],
   "source": []
  },
  {
   "cell_type": "code",
   "execution_count": null,
   "id": "de253609",
   "metadata": {},
   "outputs": [],
   "source": []
  },
  {
   "cell_type": "code",
   "execution_count": null,
   "id": "b814a5d0",
   "metadata": {},
   "outputs": [],
   "source": []
  },
  {
   "cell_type": "code",
   "execution_count": null,
   "id": "2af8b20c",
   "metadata": {},
   "outputs": [],
   "source": []
  },
  {
   "cell_type": "code",
   "execution_count": null,
   "id": "ec506306",
   "metadata": {},
   "outputs": [],
   "source": []
  },
  {
   "cell_type": "code",
   "execution_count": null,
   "id": "ec061a39",
   "metadata": {},
   "outputs": [],
   "source": []
  },
  {
   "cell_type": "code",
   "execution_count": null,
   "id": "b1dd2372",
   "metadata": {},
   "outputs": [],
   "source": []
  },
  {
   "cell_type": "code",
   "execution_count": null,
   "id": "3c427726",
   "metadata": {},
   "outputs": [],
   "source": []
  },
  {
   "cell_type": "code",
   "execution_count": null,
   "id": "bcda9293",
   "metadata": {},
   "outputs": [],
   "source": []
  },
  {
   "cell_type": "code",
   "execution_count": null,
   "id": "158a1bc0",
   "metadata": {},
   "outputs": [],
   "source": []
  },
  {
   "cell_type": "code",
   "execution_count": null,
   "id": "3e1610a7",
   "metadata": {},
   "outputs": [],
   "source": []
  },
  {
   "cell_type": "code",
   "execution_count": null,
   "id": "dfb86edb",
   "metadata": {},
   "outputs": [],
   "source": []
  },
  {
   "cell_type": "code",
   "execution_count": null,
   "id": "2eec91be",
   "metadata": {},
   "outputs": [],
   "source": []
  },
  {
   "cell_type": "code",
   "execution_count": null,
   "id": "2230958c",
   "metadata": {},
   "outputs": [],
   "source": []
  },
  {
   "cell_type": "code",
   "execution_count": null,
   "id": "5c8f6e66",
   "metadata": {},
   "outputs": [],
   "source": []
  },
  {
   "cell_type": "code",
   "execution_count": null,
   "id": "e7096074",
   "metadata": {},
   "outputs": [],
   "source": []
  },
  {
   "cell_type": "code",
   "execution_count": null,
   "id": "0f5e3d4a",
   "metadata": {},
   "outputs": [],
   "source": []
  },
  {
   "cell_type": "code",
   "execution_count": null,
   "id": "4be419a3",
   "metadata": {},
   "outputs": [],
   "source": []
  },
  {
   "cell_type": "code",
   "execution_count": null,
   "id": "c7a6596e",
   "metadata": {},
   "outputs": [],
   "source": []
  }
 ],
 "metadata": {
  "kernelspec": {
   "display_name": "Python 3 (ipykernel)",
   "language": "python",
   "name": "python3"
  },
  "language_info": {
   "codemirror_mode": {
    "name": "ipython",
    "version": 3
   },
   "file_extension": ".py",
   "mimetype": "text/x-python",
   "name": "python",
   "nbconvert_exporter": "python",
   "pygments_lexer": "ipython3",
   "version": "3.10.9"
  }
 },
 "nbformat": 4,
 "nbformat_minor": 5
}

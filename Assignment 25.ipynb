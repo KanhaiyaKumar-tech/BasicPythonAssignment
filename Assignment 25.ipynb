{
 "cells": [
  {
   "cell_type": "code",
   "execution_count": null,
   "id": "1dc5f6fd",
   "metadata": {},
   "outputs": [],
   "source": []
  },
  {
   "cell_type": "code",
   "execution_count": null,
   "id": "7b4eb992",
   "metadata": {},
   "outputs": [],
   "source": []
  },
  {
   "cell_type": "code",
   "execution_count": null,
   "id": "cd77d031",
   "metadata": {},
   "outputs": [],
   "source": [
    "1) . What is the difference between enclosing a list comprehension in square brackets and\n",
    "parentheses?\n"
   ]
  },
  {
   "cell_type": "code",
   "execution_count": null,
   "id": "1ed0a46e",
   "metadata": {},
   "outputs": [],
   "source": [
    "The main difference between enclosing a list comprehension in square brackets and parentheses is that a list comprehension in square brackets creates a new list, while a list comprehension in parentheses creates a generator object.\n",
    "\n",
    "A generator object is a special type of iterable object that can be iterated over one element at a time. This makes generator objects more memory efficient than lists, because they do not need to store the entire list in memory at once.\n",
    "\n",
    "For example, the following code creates a list comprehension that encloses the expression x * x in square brackets:"
   ]
  },
  {
   "cell_type": "code",
   "execution_count": 2,
   "id": "3b405b33",
   "metadata": {},
   "outputs": [
    {
     "data": {
      "text/plain": [
       "[0, 1, 4, 9, 16, 25, 36, 49, 64, 81]"
      ]
     },
     "execution_count": 2,
     "metadata": {},
     "output_type": "execute_result"
    }
   ],
   "source": [
    "squares = [x * x for x in range(10)]\n",
    "squares"
   ]
  },
  {
   "cell_type": "code",
   "execution_count": null,
   "id": "fcdfd464",
   "metadata": {},
   "outputs": [],
   "source": [
    "This code creates a new list called squares, which contains the squares of the numbers from 0 to 9. The list squares is a regular list, and it will be stored in memory all at once.\n",
    "\n",
    "The following code creates a list comprehension that encloses the expression x * x in parentheses:"
   ]
  },
  {
   "cell_type": "code",
   "execution_count": 5,
   "id": "810d785a",
   "metadata": {},
   "outputs": [
    {
     "data": {
      "text/plain": [
       "<generator object <genexpr> at 0x0000022331F78D60>"
      ]
     },
     "execution_count": 5,
     "metadata": {},
     "output_type": "execute_result"
    }
   ],
   "source": [
    "squares = (x * x for x in range(10))\n",
    "squares"
   ]
  },
  {
   "cell_type": "code",
   "execution_count": null,
   "id": "b57bcae9",
   "metadata": {},
   "outputs": [],
   "source": [
    "This code creates a generator object called squares, which contains the squares of the numbers from 0 to 9. The generator object squares will not be stored in memory all at once, and it will only be created one element at a time when it is iterated over."
   ]
  },
  {
   "cell_type": "code",
   "execution_count": null,
   "id": "c0079ac0",
   "metadata": {},
   "outputs": [],
   "source": []
  },
  {
   "cell_type": "code",
   "execution_count": null,
   "id": "a889354d",
   "metadata": {},
   "outputs": [],
   "source": [
    "2) What is the relationship between generators and iterators?\n"
   ]
  },
  {
   "cell_type": "code",
   "execution_count": null,
   "id": "3bd2e21b",
   "metadata": {},
   "outputs": [],
   "source": [
    "Generators and iterators are both iterable objects, but they work in different ways. Generators are created using the yield statement, while iterators are created using the iter() function.\n",
    "\n",
    "When a generator is created, it does not actually create a new list. Instead, it creates a function that can be iterated over one element at a time. When the generator function is iterated over, it will execute the yield statement one time for each element in the sequence.\n",
    "\n",
    "Iterators, on the other hand, are created using the iter() function. The iter() function takes an iterable object as input and returns an iterator object. The iterator object can then be iterated over one element at a time."
   ]
  },
  {
   "cell_type": "code",
   "execution_count": null,
   "id": "06be2577",
   "metadata": {},
   "outputs": [],
   "source": []
  },
  {
   "cell_type": "code",
   "execution_count": null,
   "id": "733e246b",
   "metadata": {},
   "outputs": [],
   "source": [
    "3) What are the signs that a function is a generator function?\n"
   ]
  },
  {
   "cell_type": "code",
   "execution_count": null,
   "id": "f7cae9b4",
   "metadata": {},
   "outputs": [],
   "source": [
    "There are two main signs that a function is a generator function:\n",
    "\n",
    "The function contains a yield statement.\n",
    "The function returns a generator object.\n",
    "If a function contains a yield statement, then it is a generator function. The yield statement is used to create a generator object. The generator object can then be iterated over one element at a time.\n",
    "\n",
    "If a function returns a generator object, then it is also a generator function. The generator object is created by the function, and it is returned to the caller. The caller can then iterate over the generator object one element at a time."
   ]
  },
  {
   "cell_type": "code",
   "execution_count": null,
   "id": "afd9648e",
   "metadata": {},
   "outputs": [],
   "source": []
  },
  {
   "cell_type": "code",
   "execution_count": null,
   "id": "0549bc2c",
   "metadata": {},
   "outputs": [],
   "source": [
    "4) What is the purpose of a yield statement?\n"
   ]
  },
  {
   "cell_type": "code",
   "execution_count": null,
   "id": "4bfa1e22",
   "metadata": {},
   "outputs": [],
   "source": [
    "The purpose of a yield statement is to suspend execution of a function and return a value. The function can then be resumed later, and the execution will continue from where it left off.\n",
    "\n",
    "The yield statement is often used to create generator functions. Generator functions are functions that can be iterated over one element at a time. The yield statement is used to create a generator object, which can then be iterated over."
   ]
  },
  {
   "cell_type": "code",
   "execution_count": null,
   "id": "c2a0afc7",
   "metadata": {},
   "outputs": [],
   "source": []
  },
  {
   "cell_type": "code",
   "execution_count": null,
   "id": "6e3b5f4c",
   "metadata": {},
   "outputs": [],
   "source": [
    "5) What is the relationship between map calls and list comprehensions? Make a comparison and\n",
    "contrast between the two."
   ]
  },
  {
   "cell_type": "code",
   "execution_count": null,
   "id": "f49442cc",
   "metadata": {},
   "outputs": [],
   "source": [
    "Map calls and list comprehensions are both used to apply a function to a sequence of values. However, there are some key differences between the two.\n",
    "\n",
    "Map calls are more general than list comprehensions. Map calls can be used to apply any function to a sequence of values, while list comprehensions can only be used to apply functions that return a single value.\n",
    "\n",
    "List comprehensions are more concise than map calls. List comprehensions can be expressed in a single line of code, while map calls require multiple lines of code."
   ]
  },
  {
   "cell_type": "code",
   "execution_count": null,
   "id": "0c24b0b7",
   "metadata": {},
   "outputs": [],
   "source": [
    "Here is a comparison of map calls and list comprehensions:\n",
    "\n",
    "Feature  \t Map calls     List comprehensions\n",
    "Generality\tMore general\tLess general\n",
    "Conciseness\tLess concise\tMore concise\n",
    "Example\tmap(f, sequence)\t[f(x) for x in sequence]\n"
   ]
  },
  {
   "cell_type": "code",
   "execution_count": null,
   "id": "0677887b",
   "metadata": {},
   "outputs": [],
   "source": []
  },
  {
   "cell_type": "code",
   "execution_count": null,
   "id": "090367cd",
   "metadata": {},
   "outputs": [],
   "source": []
  },
  {
   "cell_type": "code",
   "execution_count": null,
   "id": "e59656f1",
   "metadata": {},
   "outputs": [],
   "source": []
  },
  {
   "cell_type": "code",
   "execution_count": null,
   "id": "497c5111",
   "metadata": {},
   "outputs": [],
   "source": []
  },
  {
   "cell_type": "code",
   "execution_count": null,
   "id": "120f7c89",
   "metadata": {},
   "outputs": [],
   "source": []
  },
  {
   "cell_type": "code",
   "execution_count": null,
   "id": "d29c9332",
   "metadata": {},
   "outputs": [],
   "source": []
  },
  {
   "cell_type": "code",
   "execution_count": null,
   "id": "eea2095f",
   "metadata": {},
   "outputs": [],
   "source": []
  },
  {
   "cell_type": "code",
   "execution_count": null,
   "id": "bfcad902",
   "metadata": {},
   "outputs": [],
   "source": []
  },
  {
   "cell_type": "code",
   "execution_count": null,
   "id": "4e0d566e",
   "metadata": {},
   "outputs": [],
   "source": []
  },
  {
   "cell_type": "code",
   "execution_count": null,
   "id": "52494099",
   "metadata": {},
   "outputs": [],
   "source": []
  },
  {
   "cell_type": "code",
   "execution_count": null,
   "id": "a58ca34c",
   "metadata": {},
   "outputs": [],
   "source": []
  },
  {
   "cell_type": "code",
   "execution_count": null,
   "id": "bf2c02df",
   "metadata": {},
   "outputs": [],
   "source": []
  },
  {
   "cell_type": "code",
   "execution_count": null,
   "id": "1d9a5cf2",
   "metadata": {},
   "outputs": [],
   "source": []
  },
  {
   "cell_type": "code",
   "execution_count": null,
   "id": "191b8829",
   "metadata": {},
   "outputs": [],
   "source": []
  },
  {
   "cell_type": "code",
   "execution_count": null,
   "id": "43704230",
   "metadata": {},
   "outputs": [],
   "source": []
  },
  {
   "cell_type": "code",
   "execution_count": null,
   "id": "ac33c121",
   "metadata": {},
   "outputs": [],
   "source": []
  },
  {
   "cell_type": "code",
   "execution_count": null,
   "id": "e48ca97f",
   "metadata": {},
   "outputs": [],
   "source": []
  }
 ],
 "metadata": {
  "kernelspec": {
   "display_name": "Python 3 (ipykernel)",
   "language": "python",
   "name": "python3"
  },
  "language_info": {
   "codemirror_mode": {
    "name": "ipython",
    "version": 3
   },
   "file_extension": ".py",
   "mimetype": "text/x-python",
   "name": "python",
   "nbconvert_exporter": "python",
   "pygments_lexer": "ipython3",
   "version": "3.10.9"
  }
 },
 "nbformat": 4,
 "nbformat_minor": 5
}

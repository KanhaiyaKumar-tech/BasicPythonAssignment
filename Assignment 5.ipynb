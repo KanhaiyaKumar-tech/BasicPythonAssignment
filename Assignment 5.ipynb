{
 "cells": [
  {
   "cell_type": "code",
   "execution_count": null,
   "id": "51624810",
   "metadata": {},
   "outputs": [],
   "source": []
  },
  {
   "cell_type": "code",
   "execution_count": null,
   "id": "f9158e1c",
   "metadata": {},
   "outputs": [],
   "source": [
    "1. What does an empty dictionary&#39;s code look like?\n"
   ]
  },
  {
   "cell_type": "code",
   "execution_count": null,
   "id": "51fb427b",
   "metadata": {},
   "outputs": [],
   "source": [
    " An empty dictionary's code looks like this: `{}`.\n",
    "\n"
   ]
  },
  {
   "cell_type": "code",
   "execution_count": null,
   "id": "01209b3d",
   "metadata": {},
   "outputs": [],
   "source": [
    "2. What is the value of a dictionary value with the key &#39;foo&#39; and the value 42?\n"
   ]
  },
  {
   "cell_type": "code",
   "execution_count": null,
   "id": "0893c797",
   "metadata": {},
   "outputs": [],
   "source": [
    " The value of a dictionary with the key 'foo' and the value 42 would be `{ 'foo': 42 }`.\n",
    "\n"
   ]
  },
  {
   "cell_type": "code",
   "execution_count": null,
   "id": "54642964",
   "metadata": {},
   "outputs": [],
   "source": [
    "3. What is the most significant distinction between a dictionary and a list?\n"
   ]
  },
  {
   "cell_type": "code",
   "execution_count": null,
   "id": "cef21335",
   "metadata": {},
   "outputs": [],
   "source": [
    " The most significant distinction between a dictionary and a list is that a dictionary is an unordered collection of\n",
    "    key-value pairs, while a list is an ordered collection of elements. In a dictionary, values are accessed using their\n",
    "    corresponding keys, whereas in a list, elements are accessed by their indices.\n"
   ]
  },
  {
   "cell_type": "code",
   "execution_count": null,
   "id": "3eaf6bef",
   "metadata": {},
   "outputs": [],
   "source": [
    "4. What happens if you try to access spam[&#39;foo&#39;] if spam is {&#39;bar&#39;: 100}?\n"
   ]
  },
  {
   "cell_type": "code",
   "execution_count": null,
   "id": "b2fa3c4e",
   "metadata": {},
   "outputs": [],
   "source": [
    " If you try to access `spam['foo']` when `spam` is `{ 'bar': 100 }`, you would get a `KeyError` because the key 'foo' does \n",
    "    not exist in the dictionary `spam`.\n"
   ]
  },
  {
   "cell_type": "code",
   "execution_count": null,
   "id": "a553909a",
   "metadata": {},
   "outputs": [],
   "source": [
    "5. If a dictionary is stored in spam, what is the difference between the expressions &#39;cat&#39; in spam and\n",
    "&#39;cat&#39; in spam.keys()?\n"
   ]
  },
  {
   "cell_type": "code",
   "execution_count": null,
   "id": "e3755b55",
   "metadata": {},
   "outputs": [],
   "source": [
    " If a dictionary is stored in `spam`, the expression `'cat' in spam` checks if the key 'cat' exists in the dictionary `spam`.\n",
    "    It returns `True` if the key is present and `False` otherwise.\n"
   ]
  },
  {
   "cell_type": "code",
   "execution_count": null,
   "id": "3d6a011c",
   "metadata": {},
   "outputs": [],
   "source": [
    "6. If a dictionary is stored in spam, what is the difference between the expressions &#39;cat&#39; in spam and\n",
    "&#39;cat&#39; in spam.values()?\n"
   ]
  },
  {
   "cell_type": "code",
   "execution_count": null,
   "id": "f91d2a2d",
   "metadata": {},
   "outputs": [],
   "source": [
    " The expression `'cat' in spam.values()` checks if the value 'cat' exists in any of the values of the dictionary `spam`.\n",
    "    It returns `True` if the value is present and `False` otherwise.\n"
   ]
  },
  {
   "cell_type": "code",
   "execution_count": null,
   "id": "9bcff65b",
   "metadata": {},
   "outputs": [],
   "source": [
    "7. What is a shortcut for the following code?\n",
    "if &#39;color&#39; not in spam:\n",
    "spam[&#39;color&#39;] = &#39;black&#39;\n",
    "\n"
   ]
  },
  {
   "cell_type": "code",
   "execution_count": null,
   "id": "8ecf39a0",
   "metadata": {},
   "outputs": [],
   "source": [
    " A shortcut for the code `if 'color' not in spam: spam['color'] = 'black'` is to\n",
    "        use the `setdefault()` method of dictionaries. You can achieve the same result with the following code:\n",
    "            `spam.setdefault('color', 'black')`. This sets the value of the key 'color' to 'black' only if the key\n",
    "            does not already exist in the dictionary `spam`.\n"
   ]
  },
  {
   "cell_type": "code",
   "execution_count": null,
   "id": "6c70b945",
   "metadata": {},
   "outputs": [],
   "source": [
    "8. How do you &quot;pretty print&quot; dictionary values using which module and function?"
   ]
  },
  {
   "cell_type": "code",
   "execution_count": null,
   "id": "2db3cb96",
   "metadata": {},
   "outputs": [],
   "source": [
    " To \"pretty print\" dictionary values, we can use the `pprint` module and its `pprint()` function. Here's an example of how to use it:\n"
   ]
  },
  {
   "cell_type": "code",
   "execution_count": 1,
   "id": "36ec8ff4",
   "metadata": {},
   "outputs": [
    {
     "name": "stdout",
     "output_type": "stream",
     "text": [
      "{'key1': 'value1', 'key2': 'value2'}\n"
     ]
    }
   ],
   "source": [
    "import pprint\n",
    "\n",
    "my_dict = {'key1': 'value1', 'key2': 'value2'}\n",
    "pprint.pprint(my_dict)\n",
    "\n",
    "# This will display the dictionary values in a more readable and structured format."
   ]
  },
  {
   "cell_type": "code",
   "execution_count": null,
   "id": "b4603f3d",
   "metadata": {},
   "outputs": [],
   "source": []
  },
  {
   "cell_type": "code",
   "execution_count": null,
   "id": "b3beb234",
   "metadata": {},
   "outputs": [],
   "source": []
  },
  {
   "cell_type": "code",
   "execution_count": null,
   "id": "3ce1baab",
   "metadata": {},
   "outputs": [],
   "source": []
  },
  {
   "cell_type": "code",
   "execution_count": null,
   "id": "eef2fe9e",
   "metadata": {},
   "outputs": [],
   "source": []
  },
  {
   "cell_type": "code",
   "execution_count": null,
   "id": "9be9abb3",
   "metadata": {},
   "outputs": [],
   "source": []
  },
  {
   "cell_type": "code",
   "execution_count": null,
   "id": "3530ab37",
   "metadata": {},
   "outputs": [],
   "source": []
  },
  {
   "cell_type": "code",
   "execution_count": null,
   "id": "f36cfa94",
   "metadata": {},
   "outputs": [],
   "source": []
  },
  {
   "cell_type": "code",
   "execution_count": null,
   "id": "bf58c7d4",
   "metadata": {},
   "outputs": [],
   "source": []
  },
  {
   "cell_type": "code",
   "execution_count": null,
   "id": "bf5c6c0b",
   "metadata": {},
   "outputs": [],
   "source": []
  },
  {
   "cell_type": "code",
   "execution_count": null,
   "id": "523a7f4a",
   "metadata": {},
   "outputs": [],
   "source": []
  },
  {
   "cell_type": "code",
   "execution_count": null,
   "id": "f2772763",
   "metadata": {},
   "outputs": [],
   "source": []
  },
  {
   "cell_type": "code",
   "execution_count": null,
   "id": "e5d7f332",
   "metadata": {},
   "outputs": [],
   "source": []
  },
  {
   "cell_type": "code",
   "execution_count": null,
   "id": "b962931b",
   "metadata": {},
   "outputs": [],
   "source": []
  },
  {
   "cell_type": "code",
   "execution_count": null,
   "id": "855c8b2b",
   "metadata": {},
   "outputs": [],
   "source": []
  },
  {
   "cell_type": "code",
   "execution_count": null,
   "id": "b66b618a",
   "metadata": {},
   "outputs": [],
   "source": []
  },
  {
   "cell_type": "code",
   "execution_count": null,
   "id": "84e3f91a",
   "metadata": {},
   "outputs": [],
   "source": []
  },
  {
   "cell_type": "code",
   "execution_count": null,
   "id": "7e5d742b",
   "metadata": {},
   "outputs": [],
   "source": []
  },
  {
   "cell_type": "code",
   "execution_count": null,
   "id": "2d61d411",
   "metadata": {},
   "outputs": [],
   "source": []
  },
  {
   "cell_type": "code",
   "execution_count": null,
   "id": "34616290",
   "metadata": {},
   "outputs": [],
   "source": []
  },
  {
   "cell_type": "code",
   "execution_count": null,
   "id": "6e1114a4",
   "metadata": {},
   "outputs": [],
   "source": []
  },
  {
   "cell_type": "code",
   "execution_count": null,
   "id": "3d1ca214",
   "metadata": {},
   "outputs": [],
   "source": []
  },
  {
   "cell_type": "code",
   "execution_count": null,
   "id": "aaba94a2",
   "metadata": {},
   "outputs": [],
   "source": []
  },
  {
   "cell_type": "code",
   "execution_count": null,
   "id": "ef445aab",
   "metadata": {},
   "outputs": [],
   "source": []
  },
  {
   "cell_type": "code",
   "execution_count": null,
   "id": "abc07635",
   "metadata": {},
   "outputs": [],
   "source": []
  }
 ],
 "metadata": {
  "kernelspec": {
   "display_name": "Python 3 (ipykernel)",
   "language": "python",
   "name": "python3"
  },
  "language_info": {
   "codemirror_mode": {
    "name": "ipython",
    "version": 3
   },
   "file_extension": ".py",
   "mimetype": "text/x-python",
   "name": "python",
   "nbconvert_exporter": "python",
   "pygments_lexer": "ipython3",
   "version": "3.10.9"
  }
 },
 "nbformat": 4,
 "nbformat_minor": 5
}

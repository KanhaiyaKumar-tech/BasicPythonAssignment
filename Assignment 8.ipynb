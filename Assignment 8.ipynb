{
 "cells": [
  {
   "cell_type": "code",
   "execution_count": null,
   "id": "c03b1c85",
   "metadata": {},
   "outputs": [],
   "source": []
  },
  {
   "cell_type": "code",
   "execution_count": null,
   "id": "1202c978",
   "metadata": {},
   "outputs": [],
   "source": [
    "1. Is the Python Standard Library included with PyInputPlus?\n"
   ]
  },
  {
   "cell_type": "code",
   "execution_count": null,
   "id": "cfcc7e3a",
   "metadata": {},
   "outputs": [],
   "source": [
    " No, the Python Standard Library is not included with PyInputPlus. The Python Standard Library is a collection of modules\n",
    "and packages that come pre-installed with Python. PyInputPlus is a separate third-party library that provides additional\n",
    "functionalities for taking input from users.\n"
   ]
  },
  {
   "cell_type": "code",
   "execution_count": null,
   "id": "25820f02",
   "metadata": {},
   "outputs": [],
   "source": [
    "2. Why is PyInputPlus commonly imported with import pyinputplus as pypi?\n"
   ]
  },
  {
   "cell_type": "code",
   "execution_count": null,
   "id": "a8fba77e",
   "metadata": {},
   "outputs": [],
   "source": [
    "PyInputPlus is commonly imported with the alias `pypi` to make it easier and more convenient to use in code. By importing \n",
    "it as `pypi`, you can use shorter names when invoking PyInputPlus functions and methods, which can make the code more\n",
    "concise and readable.\n"
   ]
  },
  {
   "cell_type": "code",
   "execution_count": null,
   "id": "1b545426",
   "metadata": {},
   "outputs": [],
   "source": [
    "3. How do you distinguish between inputInt() and inputFloat()?\n"
   ]
  },
  {
   "cell_type": "code",
   "execution_count": null,
   "id": "76ff141c",
   "metadata": {},
   "outputs": [],
   "source": [
    "The `inputInt()` function in PyInputPlus is used to prompt the user for an integer input, while the `inputFloat()` function \n",
    "is used to prompt the user for a floating-point input. `inputInt()` ensures that the input provided by the user is a valid\n",
    "integer, whereas `inputFloat()` ensures that the input is a valid floating-point number.\n"
   ]
  },
  {
   "cell_type": "code",
   "execution_count": null,
   "id": "87106618",
   "metadata": {},
   "outputs": [],
   "source": [
    "4. Using PyInputPlus, how do you ensure that the user enters a whole number between 0 and 99?\n"
   ]
  },
  {
   "cell_type": "code",
   "execution_count": null,
   "id": "d9528d65",
   "metadata": {},
   "outputs": [],
   "source": [
    " Using PyInputPlus, you can ensure that the user enters a whole number between 0 and 99 by using the `inputInt()` function\n",
    "    with the `min` and `max` parameters set. Here's an example:\n"
   ]
  },
  {
   "cell_type": "code",
   "execution_count": null,
   "id": "3a166867",
   "metadata": {},
   "outputs": [],
   "source": [
    "import pyinputplus as pypi\n",
    "\n",
    "number = pypi.inputInt(prompt=\"Enter a number between 0 and 99: \", min=0, max=99)\n",
    "\n",
    "# This will keep prompting the user until they enter a valid whole number between 0 and 99.\n"
   ]
  },
  {
   "cell_type": "code",
   "execution_count": null,
   "id": "6e157c3c",
   "metadata": {},
   "outputs": [],
   "source": []
  },
  {
   "cell_type": "code",
   "execution_count": null,
   "id": "f924ad16",
   "metadata": {},
   "outputs": [],
   "source": [
    "5. What is transferred to the keyword arguments allowRegexes and blockRegexes?\n"
   ]
  },
  {
   "cell_type": "code",
   "execution_count": null,
   "id": "b9a8782d",
   "metadata": {},
   "outputs": [],
   "source": [
    " The keyword arguments `allowRegexes` and `blockRegexes` in PyInputPlus are used to define regular expressions that allow\n",
    "    or block certain patterns in user input. \n",
    "\n",
    "- The `allowRegexes` argument takes a list of regular expressions. If any of the regular expressions match the user's input,\n",
    "    it is considered valid.\n",
    "- The `blockRegexes` argument also takes a list of regular expressions. If any of the regular expressions match the user's \n",
    "    input, it is considered invalid.\n",
    "\n",
    "By using these arguments, you can define custom patterns and restrictions for user input.\n"
   ]
  },
  {
   "cell_type": "code",
   "execution_count": null,
   "id": "060979fd",
   "metadata": {},
   "outputs": [],
   "source": [
    "6. If a blank input is entered three times, what does inputStr(limit=3) do?\n"
   ]
  },
  {
   "cell_type": "code",
   "execution_count": null,
   "id": "524c4c63",
   "metadata": {},
   "outputs": [],
   "source": [
    " If a blank input is entered three times, the `inputStr(limit=3)` function in PyInputPlus raises a `TimeoutException`. \n",
    "    This means that if the user does not provide any input within the specified number of attempts (in this case, three),\n",
    "    the function will raise an exception indicating a timeout.\n"
   ]
  },
  {
   "cell_type": "code",
   "execution_count": null,
   "id": "2f0ba717",
   "metadata": {},
   "outputs": [],
   "source": [
    "7. If blank input is entered three times, what does inputStr(limit=3, default=&#39;hello&#39;) do?"
   ]
  },
  {
   "cell_type": "code",
   "execution_count": null,
   "id": "717bb46a",
   "metadata": {},
   "outputs": [],
   "source": [
    "If a blank input is entered three times, the `inputStr(limit=3, default='hello')` function in PyInputPlus returns the \n",
    "default value `'hello'`. This means that if the user does not provide any input within the specified number of attempts\n",
    "(three in this case), the function will return the default value specified ('hello') instead of raising an exception.\n"
   ]
  },
  {
   "cell_type": "code",
   "execution_count": null,
   "id": "351e44a3",
   "metadata": {},
   "outputs": [],
   "source": []
  },
  {
   "cell_type": "code",
   "execution_count": null,
   "id": "23b87867",
   "metadata": {},
   "outputs": [],
   "source": []
  },
  {
   "cell_type": "code",
   "execution_count": null,
   "id": "bb07d282",
   "metadata": {},
   "outputs": [],
   "source": []
  },
  {
   "cell_type": "code",
   "execution_count": null,
   "id": "60b2d96c",
   "metadata": {},
   "outputs": [],
   "source": []
  },
  {
   "cell_type": "code",
   "execution_count": null,
   "id": "572cc58c",
   "metadata": {},
   "outputs": [],
   "source": []
  },
  {
   "cell_type": "code",
   "execution_count": null,
   "id": "87cfdde3",
   "metadata": {},
   "outputs": [],
   "source": []
  },
  {
   "cell_type": "code",
   "execution_count": null,
   "id": "c6632d97",
   "metadata": {},
   "outputs": [],
   "source": []
  },
  {
   "cell_type": "code",
   "execution_count": null,
   "id": "96e18739",
   "metadata": {},
   "outputs": [],
   "source": []
  }
 ],
 "metadata": {
  "kernelspec": {
   "display_name": "Python 3 (ipykernel)",
   "language": "python",
   "name": "python3"
  },
  "language_info": {
   "codemirror_mode": {
    "name": "ipython",
    "version": 3
   },
   "file_extension": ".py",
   "mimetype": "text/x-python",
   "name": "python",
   "nbconvert_exporter": "python",
   "pygments_lexer": "ipython3",
   "version": "3.10.9"
  }
 },
 "nbformat": 4,
 "nbformat_minor": 5
}

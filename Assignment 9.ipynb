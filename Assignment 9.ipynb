{
 "cells": [
  {
   "cell_type": "code",
   "execution_count": null,
   "id": "1aceb25b",
   "metadata": {},
   "outputs": [],
   "source": []
  },
  {
   "cell_type": "code",
   "execution_count": null,
   "id": "af260be2",
   "metadata": {},
   "outputs": [],
   "source": [
    "1. To what does a relative path refer?\n"
   ]
  },
  {
   "cell_type": "code",
   "execution_count": null,
   "id": "410faf1a",
   "metadata": {},
   "outputs": [],
   "source": [
    " A relative path refers to the path of a file or directory relative to the current working directory. It does not start \n",
    "with the root directory but provides a path based on the current location.\n",
    " "
   ]
  },
  {
   "cell_type": "code",
   "execution_count": null,
   "id": "98637461",
   "metadata": {},
   "outputs": [],
   "source": [
    "2. What does an absolute path start with your operating system?\n"
   ]
  },
  {
   "cell_type": "code",
   "execution_count": null,
   "id": "5e9da87d",
   "metadata": {},
   "outputs": [],
   "source": [
    " An absolute path, on your operating system, typically starts with the root directory. For example, in Windows, \n",
    "    an absolute path may start with \"C:\\\", while in Unix-based systems, it may start with \"/\" or \"~\".\n"
   ]
  },
  {
   "cell_type": "code",
   "execution_count": null,
   "id": "d70c0908",
   "metadata": {},
   "outputs": [],
   "source": [
    "3. What do the functions os.getcwd() and os.chdir() do?\n"
   ]
  },
  {
   "cell_type": "code",
   "execution_count": null,
   "id": "a0bf2e84",
   "metadata": {},
   "outputs": [],
   "source": [
    "In Python, the `os.getcwd()` function returns the current working directory, i.e., the directory in which the Python \n",
    "script is currently executing. The `os.chdir()` function is used to change the current working directory to the specified path.\n"
   ]
  },
  {
   "cell_type": "code",
   "execution_count": null,
   "id": "11e9cce4",
   "metadata": {},
   "outputs": [],
   "source": [
    "4. What are the . and .. folders?\n"
   ]
  },
  {
   "cell_type": "code",
   "execution_count": null,
   "id": "53bb9f7b",
   "metadata": {},
   "outputs": [],
   "source": [
    " The \".\" (dot) represents the current directory, and \"..\" (dot-dot) represents the parent directory. These are used to \n",
    "    refer to directories relative to the current location. For example, if the current directory is \"/home/user\",\n",
    "    then \".\" represents \"/home/user\", and \"..\" represents \"/home\".\n"
   ]
  },
  {
   "cell_type": "code",
   "execution_count": null,
   "id": "be82abb5",
   "metadata": {},
   "outputs": [],
   "source": [
    "5. In C:\\bacon\\eggs\\spam.txt, which part is the dir name, and which part is the base name?\n"
   ]
  },
  {
   "cell_type": "code",
   "execution_count": null,
   "id": "1ee562aa",
   "metadata": {},
   "outputs": [],
   "source": [
    " In the path \"C:\\bacon\\eggs\\spam.txt\", the directory name (dir name) is \"C:\\bacon\\eggs\", and the base name is \"spam.txt\".\n",
    "    The directory name refers to the path of the directory containing the file, and the base name refers to the name of\n",
    "    the file itself.\n"
   ]
  },
  {
   "cell_type": "code",
   "execution_count": null,
   "id": "09288fa2",
   "metadata": {},
   "outputs": [],
   "source": [
    "6. What are the three “mode” arguments that can be passed to the open() function?\n"
   ]
  },
  {
   "cell_type": "code",
   "execution_count": null,
   "id": "95723d4c",
   "metadata": {},
   "outputs": [],
   "source": [
    " The three \"mode\" arguments that can be passed to the `open()` function in Python are:\n",
    "   - \"r\" - Read mode: Opens a file for reading.\n",
    "   - \"w\" - Write mode: Opens a file for writing. If the file does not exist, it creates a new file. If it exists, it truncates the file to zero length.\n",
    "   - \"a\" - Append mode: Opens a file for appending. If the file does not exist, it creates a new file. If it exists, it appends data to the end of the file.\n"
   ]
  },
  {
   "cell_type": "code",
   "execution_count": null,
   "id": "d4309944",
   "metadata": {},
   "outputs": [],
   "source": [
    "7. What happens if an existing file is opened in write mode?\n"
   ]
  },
  {
   "cell_type": "code",
   "execution_count": null,
   "id": "88af22b3",
   "metadata": {},
   "outputs": [],
   "source": [
    "If an existing file is opened in write mode (\"w\"), the file is truncated to zero length, effectively erasing its \n",
    "previous contents. Any new data written to the file will overwrite the existing content. It is important to exercise\n",
    "caution when using write mode to avoid unintentionally losing data.\n"
   ]
  },
  {
   "cell_type": "code",
   "execution_count": null,
   "id": "5f67f848",
   "metadata": {},
   "outputs": [],
   "source": [
    "8. How do you tell the difference between read() and readlines()?\n"
   ]
  },
  {
   "cell_type": "code",
   "execution_count": null,
   "id": "8175f9a3",
   "metadata": {},
   "outputs": [],
   "source": [
    " The `read()` method is used to read the entire contents of a file as a single string. It returns the contents as a\n",
    "    string variable.\n",
    "\n",
    "The `readlines()` method is used to read the contents of a file and returns a list where each line of the file is \n",
    "    an element of the list. Each line in the list includes the newline character (\"\\n\") at the end.\n"
   ]
  },
  {
   "cell_type": "code",
   "execution_count": null,
   "id": "5c1c3ee9",
   "metadata": {},
   "outputs": [],
   "source": [
    "9. What data structure does a shelf value resemble?\n"
   ]
  },
  {
   "cell_type": "code",
   "execution_count": null,
   "id": "4495a3d0",
   "metadata": {},
   "outputs": [],
   "source": [
    " A shelf value in Python resembles a dictionary. It is a persistent, dictionary-like object that is stored as a binary \n",
    "    file. It supports key-value storage, similar to a dictionary, and allows you to persistently store and retrieve data \n",
    "    between program runs.\n",
    "    "
   ]
  },
  {
   "cell_type": "code",
   "execution_count": null,
   "id": "8f596101",
   "metadata": {},
   "outputs": [],
   "source": []
  },
  {
   "cell_type": "code",
   "execution_count": null,
   "id": "5aaec365",
   "metadata": {},
   "outputs": [],
   "source": []
  },
  {
   "cell_type": "code",
   "execution_count": null,
   "id": "d3a00803",
   "metadata": {},
   "outputs": [],
   "source": []
  }
 ],
 "metadata": {
  "kernelspec": {
   "display_name": "Python 3 (ipykernel)",
   "language": "python",
   "name": "python3"
  },
  "language_info": {
   "codemirror_mode": {
    "name": "ipython",
    "version": 3
   },
   "file_extension": ".py",
   "mimetype": "text/x-python",
   "name": "python",
   "nbconvert_exporter": "python",
   "pygments_lexer": "ipython3",
   "version": "3.10.9"
  }
 },
 "nbformat": 4,
 "nbformat_minor": 5
}
